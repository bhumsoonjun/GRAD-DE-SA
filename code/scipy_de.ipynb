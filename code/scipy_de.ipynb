{
 "cells": [
  {
   "cell_type": "code",
   "execution_count": 3,
   "metadata": {
    "collapsed": true,
    "ExecuteTime": {
     "end_time": "2023-11-04T08:44:11.683394Z",
     "start_time": "2023-11-04T08:44:11.670236Z"
    }
   },
   "outputs": [],
   "source": [
    "from __future__ import annotations\n",
    "import numpy as np\n",
    "from typing import *\n",
    "import copy\n",
    "import scipy.stats as stats\n",
    "import scipy.optimize as opt\n",
    "import matplotlib.pyplot as plt"
   ]
  },
  {
   "cell_type": "code",
   "execution_count": 6,
   "outputs": [
    {
     "data": {
      "text/plain": " message: Maximum number of iterations has been exceeded.\n success: False\n     fun: 0.012698328419771374\n       x: [ 5.089e-04  1.052e-04 ... -1.927e-02  1.088e-02]\n     nit: 200\n    nfev: 1206000"
     },
     "execution_count": 6,
     "metadata": {},
     "output_type": "execute_result"
    }
   ],
   "source": [
    "def func_5(x: np.ndarray):\n",
    "    cost = 0\n",
    "    for i in range(30):\n",
    "        for j in range(i + 1):\n",
    "            cost += x[j] ** 2\n",
    "    return cost\n",
    "\n",
    "opt.differential_evolution(\n",
    "    func=func_5,\n",
    "    bounds=[(-100, 100)] * 30,\n",
    "    maxiter=200,\n",
    "    popsize=200,\n",
    "    polish=False,\n",
    "\n",
    ")"
   ],
   "metadata": {
    "collapsed": false,
    "ExecuteTime": {
     "end_time": "2023-11-04T08:52:10.028054Z",
     "start_time": "2023-11-04T08:47:48.573049Z"
    }
   }
  },
  {
   "cell_type": "code",
   "execution_count": null,
   "outputs": [],
   "source": [],
   "metadata": {
    "collapsed": false
   }
  }
 ],
 "metadata": {
  "kernelspec": {
   "display_name": "Python 3",
   "language": "python",
   "name": "python3"
  },
  "language_info": {
   "codemirror_mode": {
    "name": "ipython",
    "version": 2
   },
   "file_extension": ".py",
   "mimetype": "text/x-python",
   "name": "python",
   "nbconvert_exporter": "python",
   "pygments_lexer": "ipython2",
   "version": "2.7.6"
  }
 },
 "nbformat": 4,
 "nbformat_minor": 0
}
