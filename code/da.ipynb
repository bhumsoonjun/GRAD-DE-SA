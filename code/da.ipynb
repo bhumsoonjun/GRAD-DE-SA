{
 "cells": [
  {
   "cell_type": "code",
   "execution_count": 1,
   "metadata": {
    "collapsed": true,
    "ExecuteTime": {
     "end_time": "2023-11-18T14:46:58.520047Z",
     "start_time": "2023-11-18T14:46:58.237743Z"
    }
   },
   "outputs": [],
   "source": [
    "import numpy as np\n",
    "import scipy.optimize as opt\n",
    "import benchmark_functions as bf"
   ]
  },
  {
   "cell_type": "code",
   "execution_count": 2,
   "outputs": [
    {
     "ename": "TypeError",
     "evalue": "dual_annealing() got an unexpected keyword argument 'vtr'",
     "output_type": "error",
     "traceback": [
      "\u001B[0;31m---------------------------------------------------------------------------\u001B[0m",
      "\u001B[0;31mTypeError\u001B[0m                                 Traceback (most recent call last)",
      "Cell \u001B[0;32mIn[2], line 6\u001B[0m\n\u001B[1;32m      4\u001B[0m d \u001B[38;5;241m=\u001B[39m \u001B[38;5;241m30\u001B[39m\n\u001B[1;32m      5\u001B[0m bounds \u001B[38;5;241m=\u001B[39m [(\u001B[38;5;241m-\u001B[39m\u001B[38;5;241m100\u001B[39m, \u001B[38;5;241m100\u001B[39m) \u001B[38;5;28;01mfor\u001B[39;00m _ \u001B[38;5;129;01min\u001B[39;00m \u001B[38;5;28mrange\u001B[39m(d)]\n\u001B[0;32m----> 6\u001B[0m \u001B[43mopt\u001B[49m\u001B[38;5;241;43m.\u001B[39;49m\u001B[43mdual_annealing\u001B[49m\u001B[43m(\u001B[49m\u001B[43msphere\u001B[49m\u001B[43m,\u001B[49m\u001B[43m \u001B[49m\u001B[43mbounds\u001B[49m\u001B[38;5;241;43m=\u001B[39;49m\u001B[43mbounds\u001B[49m\u001B[43m,\u001B[49m\u001B[43m \u001B[49m\u001B[43mmaxiter\u001B[49m\u001B[38;5;241;43m=\u001B[39;49m\u001B[38;5;241;43m1000\u001B[39;49m\u001B[43m,\u001B[49m\u001B[43m \u001B[49m\u001B[43mvtr\u001B[49m\u001B[38;5;241;43m=\u001B[39;49m\u001B[38;5;241;43m10\u001B[39;49m\u001B[43m)\u001B[49m\n",
      "\u001B[0;31mTypeError\u001B[0m: dual_annealing() got an unexpected keyword argument 'vtr'"
     ]
    }
   ],
   "source": [
    "def sphere(x: np.ndarray):\n",
    "    return np.sum(np.apply_along_axis(lambda y: (y)**2, 0, x))\n",
    "\n",
    "d = 30\n",
    "bounds = [(-100, 100) for _ in range(d)]\n",
    "opt.dual_annealing(sphere, bounds=bounds, maxiter=1000, vtr=10)"
   ],
   "metadata": {
    "collapsed": false,
    "ExecuteTime": {
     "end_time": "2023-11-17T09:00:35.537732Z",
     "start_time": "2023-11-17T09:00:35.273586Z"
    }
   }
  },
  {
   "cell_type": "code",
   "execution_count": 50,
   "outputs": [
    {
     "data": {
      "text/plain": " message: ['Maximum number of iteration reached']\n success: True\n  status: 0\n     fun: 1.0577528953793014e-09\n       x: [-1.649e-05  7.731e-06 ...  1.472e-06  5.174e-09]\n     nit: 1000\n    nfev: 61179\n    njev: 38\n    nhev: 0"
     },
     "execution_count": 50,
     "metadata": {},
     "output_type": "execute_result"
    }
   ],
   "source": [
    "def weighted_sphere(x: np.ndarray):\n",
    "    cost = 0\n",
    "    for i in range(x.shape[0]):\n",
    "        cost += (i + 1) * (x[i]) ** 2\n",
    "    return cost\n",
    "\n",
    "d = 30\n",
    "bounds = [(-100, 100) for _ in range(d)]\n",
    "opt.dual_annealing(weighted_sphere, bounds=bounds, maxiter=1000)"
   ],
   "metadata": {
    "collapsed": false,
    "ExecuteTime": {
     "end_time": "2023-11-13T17:33:05.059577Z",
     "start_time": "2023-11-13T17:33:03.731406Z"
    }
   }
  },
  {
   "cell_type": "code",
   "execution_count": 4,
   "outputs": [
    {
     "name": "stdout",
     "output_type": "stream",
     "text": [
      "[ 266.38800643 -221.75347222  -23.74622139 -251.34476519   69.55886255\n",
      "   47.5707159   437.57315124  214.42180864  318.85921207  466.90167382\n",
      "   94.99278802  180.48176969  171.37475359 -405.38817577  303.9233374\n",
      "  239.47513579 -376.87936921  442.0481872   334.65734492  247.42948715\n",
      " -219.21984197 -306.70336281  -74.19860788 -118.77872652 -187.85114096\n",
      "  490.47539737   55.20124851  190.66529408 -232.39554606 -225.20062803]\n",
      "[ -65.84029961  446.01822174 -355.97452743  416.42692877 -262.66944349\n",
      " -141.03274344  248.96969189 -117.8064974   130.25575273  278.29821448\n",
      "  -93.61067133 -151.74653634  -17.22870575  406.00836489  -28.30496864\n",
      "  -92.75317025  290.89232475  109.81988117  146.05388558  -84.79881889\n",
      " -407.82330132 -495.30682215 -262.80206723 -307.38218586 -376.4546003\n",
      "  301.87193803 -277.02705753    2.06183474 -420.9990054  -413.80408737]\n",
      "[  30.34824658 -457.79323208 -172.36306838 -399.96161217  -79.05798443\n",
      "   42.57871562  345.15823808  -21.61795121  226.44429891  374.48676066\n",
      "    2.57787486  -55.55799016   78.95984044 -497.80308893   67.88357754\n",
      "   90.85828881  387.08087093  206.00842735  242.24243176   98.81264017\n",
      " -224.21184226 -399.11827597 -166.61352104 -123.7707268  -280.26605412\n",
      "  485.48339708  -93.41559847   98.25038092 -324.81045922 -230.19262831]\n",
      "[ -93.89805335  417.96046799   89.6567654   475.79208791 -203.30428435\n",
      "  -81.6675843   220.91193816 -145.86425114  102.19799899 -363.49340556\n",
      " -121.66842507 -179.80429009  340.97967421  377.95061114  -56.36272238\n",
      "  -33.38801111  262.834571     81.76212743 -495.73773446  -25.43365975\n",
      " -348.45814218 -137.09844219   95.40631273  138.24910697  -18.24622034\n",
      "  361.23709716 -217.66189839  360.2702147   -62.79062544 -354.43892823]\n",
      "[-155.612702    426.88934595   27.94211674  414.07743926 -194.37540639\n",
      "  -72.73870634  159.1972895  -207.57889979  111.12687694 -425.20805421\n",
      " -183.38307372 -170.87541213  349.90855217  316.23596249 -118.07737104\n",
      "  -24.45913315  271.76344896   90.69100539 -486.8088565   -16.50478179\n",
      " -410.17279083 -198.81309085   33.69166408  147.17798493   -9.31734238\n",
      "  299.5224485  -208.73302043  298.55556604  -53.86174748 -416.15357689]\n",
      "[-155.612702    426.88934595   53.9581551   414.07743926 -194.37540639\n",
      "  -72.73870634  159.1972895  -207.57889979  111.12687694 -425.20805421\n",
      " -183.38307372 -170.87541213  349.90855217  316.23596249 -118.07737104\n",
      "  -24.45913315  271.76344896   90.69100539 -486.8088565   -16.50478179\n",
      " -410.17279083 -198.81309085   33.69166408  147.17798493   -9.31734238\n",
      "  299.5224485  -208.73302043  298.55556604  -53.86174748 -416.15357689]\n",
      "[-155.612702    426.88934595   53.9581551   414.07743926  -78.69105976\n",
      "  -72.73870634  159.1972895  -207.57889979  111.12687694 -425.20805421\n",
      " -183.38307372 -170.87541213  349.90855217  316.23596249 -118.07737104\n",
      "  -24.45913315  271.76344896   90.69100539 -486.8088565   -16.50478179\n",
      " -410.17279083 -198.81309085   33.69166408  147.17798493   -9.31734238\n",
      "  299.5224485  -208.73302043  298.55556604  -53.86174748 -416.15357689]\n",
      "[-155.612702    426.88934595   53.9581551   414.07743926  -78.69105976\n",
      "  -72.73870634  159.1972895  -207.57889979  166.79193214 -425.20805421\n",
      " -183.38307372 -170.87541213  349.90855217  316.23596249 -118.07737104\n",
      "  -24.45913315  271.76344896   90.69100539 -486.8088565   -16.50478179\n",
      " -410.17279083 -198.81309085   33.69166408  147.17798493   -9.31734238\n",
      "  299.5224485  -208.73302043  298.55556604  -53.86174748 -416.15357689]\n",
      "[-155.612702    426.88934595   53.9581551   414.07743926  -78.69105976\n",
      "  -72.73870634  159.1972895  -207.57889979  166.79193214 -425.20805421\n",
      " -183.38307372 -170.87541213  349.90855217  316.23596249   -2.6353973\n",
      "  -24.45913315  271.76344896   90.69100539 -486.8088565   -16.50478179\n",
      " -410.17279083 -198.81309085   33.69166408  147.17798493   -9.31734238\n",
      "  299.5224485  -208.73302043  298.55556604  -53.86174748 -416.15357689]\n",
      "[-155.612702    426.88934595   53.9581551   414.07743926  -78.69105976\n",
      "  -72.73870634  159.1972895  -207.57889979  166.79193214 -425.20805421\n",
      " -183.38307372 -170.87541213  349.90855217  316.23596249   -2.6353973\n",
      "  -24.45913315  271.76344896   90.69100539 -486.8088565   -16.50478179\n",
      " -410.17279083 -198.81309085  241.13548276  147.17798493   -9.31734238\n",
      "  299.5224485  -208.73302043  298.55556604  -53.86174748 -416.15357689]\n",
      "[-155.612702    426.88934595   53.9581551   414.07743926  -78.69105976\n",
      "  -72.73870634  159.1972895  -207.57889979  166.79193214 -425.20805421\n",
      " -183.38307372 -170.87541213  349.90855217  316.23596249   -2.6353973\n",
      "  -24.45913315  271.76344896   90.69100539 -486.8088565   -16.50478179\n",
      " -410.17279083 -198.81309085  241.13548276   26.96877968   -9.31734238\n",
      "  299.5224485  -208.73302043  298.55556604  -53.86174748 -416.15357689]\n",
      "[-155.612702    426.88934595   53.9581551   414.07743926  -78.69105976\n",
      "  -72.73870634  159.1972895  -207.57889979  166.79193214 -425.20805421\n",
      " -183.38307372 -170.87541213  349.90855217  316.23596249   -2.6353973\n",
      "  -24.45913315  271.76344896   90.69100539 -486.8088565   -16.50478179\n",
      " -410.17279083 -198.81309085  241.13548276   26.96877968   -9.31734238\n",
      "  299.5224485  -208.73302043  298.55556604   23.20088345 -416.15357689]\n",
      "[-155.612702    426.88934595   53.9581551   414.07743926  -78.69105976\n",
      "  -72.73870634  159.1972895  -207.57889979  166.79193214 -425.20805421\n",
      " -183.38307372 -170.87541213  349.90855217  316.23596249   -2.6353973\n",
      "  -24.45913315  271.76344896   90.69100539 -486.8088565   -16.50478179\n",
      " -410.17279083 -198.81309085  241.13548276   26.96877968   -9.31734238\n",
      "  299.5224485  -208.73302043  298.55556604   23.20088345   -7.01170977]\n",
      "[ 9.99998448 10.00000355 10.00000284 10.0000108  10.00001557  9.99997199\n",
      " 10.00003999  9.99994344 10.00002251 10.00002744  9.99997645 10.00001541\n",
      "  9.9999717  10.00000513  9.99999011 10.00002112 10.00000757 10.00001114\n",
      "  9.9999331  10.00007275  9.99995396 10.00002518  9.99999124 10.00003885\n",
      "  9.99996098 10.00002183  9.99996607 10.00000406  9.99998326 10.00003655]\n"
     ]
    },
    {
     "data": {
      "text/plain": " message: ['Maximum number of iteration reached']\n success: True\n  status: 0\n     fun: 1.0488566601858833e-08\n       x: [ 1.000e+01  1.000e+01 ...  1.000e+01  1.000e+01]\n     nit: 1000\n    nfev: 64124\n    njev: 133\n    nhev: 0"
     },
     "execution_count": 4,
     "metadata": {},
     "output_type": "execute_result"
    }
   ],
   "source": [
    "def schwefel_1_2(x: np.ndarray):\n",
    "    cost = 0\n",
    "    for i in range(x.shape[0]):\n",
    "        cost += np.sum(np.apply_along_axis(lambda y: y, 0, x[:i+1] - 10)) ** 2\n",
    "    return cost\n",
    "\n",
    "d = 30\n",
    "bounds = [(-500, 500) for _ in range(d)]\n",
    "opt.dual_annealing(schwefel_1_2, bounds=bounds, maxiter=1000, callback=lambda x, f, context: print(x))"
   ],
   "metadata": {
    "collapsed": false,
    "ExecuteTime": {
     "end_time": "2023-11-18T14:50:10.193402Z",
     "start_time": "2023-11-18T14:49:50.602235Z"
    }
   }
  },
  {
   "cell_type": "code",
   "execution_count": 6,
   "outputs": [
    {
     "data": {
      "text/plain": " message: ['Maximum number of iteration reached']\n success: True\n  status: 0\n     fun: 0.00038188957478269003\n       x: [ 4.210e+02  4.210e+02 ...  4.210e+02  4.210e+02]\n     nit: 1000\n    nfev: 65085\n    njev: 164\n    nhev: 0"
     },
     "execution_count": 6,
     "metadata": {},
     "output_type": "execute_result"
    }
   ],
   "source": [
    "def schwefel_2_3(x: np.ndarray):\n",
    "    cost = 418.9829 * x.shape[0] - np.sum(np.apply_along_axis(lambda y: y * np.sin(np.sqrt(np.abs(y))), 0, x))\n",
    "    return cost\n",
    "\n",
    "d = 30\n",
    "bounds = [(-500, 500) for _ in range(d)]\n",
    "opt.dual_annealing(schwefel_2_3, bounds=bounds, maxiter=1000, seed=8)"
   ],
   "metadata": {
    "collapsed": false,
    "ExecuteTime": {
     "end_time": "2023-11-17T04:16:33.793319Z",
     "start_time": "2023-11-17T04:16:32.141215Z"
    }
   }
  },
  {
   "cell_type": "code",
   "execution_count": 23,
   "outputs": [
    {
     "data": {
      "text/plain": " message: ['Maximum number of iteration reached']\n success: True\n  status: 0\n     fun: -1.0\n       x: [ 3.142e+00  3.142e+00 ... -4.150e+01 -4.066e+01]\n     nit: 1000\n    nfev: 60559\n    njev: 18\n    nhev: 0"
     },
     "execution_count": 23,
     "metadata": {},
     "output_type": "execute_result"
    }
   ],
   "source": [
    "def easom(x: np.ndarray):\n",
    "    return -np.cos(x[0]) * np.cos(x[1]) * np.exp(-((x[0] - np.pi)**2 + (x[1] - np.pi)**2))\n",
    "\n",
    "d = 30\n",
    "bounds = [(-100, 100) for _ in range(d)]\n",
    "opt.dual_annealing(easom, bounds=bounds, maxiter=1000)"
   ],
   "metadata": {
    "collapsed": false,
    "ExecuteTime": {
     "end_time": "2023-11-13T14:08:36.848490Z",
     "start_time": "2023-11-13T14:08:35.725497Z"
    }
   }
  },
  {
   "cell_type": "code",
   "execution_count": 26,
   "outputs": [
    {
     "data": {
      "text/plain": " message: ['Maximum number of iteration reached']\n success: True\n  status: 0\n     fun: 7.794575495615702e-10\n       x: [ 1.627e-06  2.171e-06 ...  3.968e-06  1.706e-05]\n     nit: 1000\n    nfev: 61055\n    njev: 34\n    nhev: 0"
     },
     "execution_count": 26,
     "metadata": {},
     "output_type": "execute_result"
    }
   ],
   "source": [
    "\n",
    "def rotated_hyper_ellipsoid(x: np.ndarray):\n",
    "    # rotated hyper ellipsoid\n",
    "    cost = 0\n",
    "    for i in range(x.shape[0]):\n",
    "        cost += np.sum(np.apply_along_axis(lambda y: (y) ** 2, 0, x[:i + 1]))\n",
    "    return cost\n",
    "\n",
    "d = 30\n",
    "bounds = [(-65.536, 65.536)  for _ in range(d)]\n",
    "opt.dual_annealing(rotated_hyper_ellipsoid, bounds=bounds, maxiter=1000)"
   ],
   "metadata": {
    "collapsed": false,
    "ExecuteTime": {
     "end_time": "2023-11-13T16:26:27.785803Z",
     "start_time": "2023-11-13T16:26:09.315600Z"
    }
   }
  },
  {
   "cell_type": "code",
   "execution_count": 25,
   "outputs": [
    {
     "data": {
      "text/plain": " message: ['Maximum number of iteration reached']\n success: True\n  status: 0\n     fun: 3.690376481290067e-10\n       x: [ 1.000e+00  1.000e+00 ...  1.000e+00  1.000e+00]\n     nit: 1000\n    nfev: 66077\n    njev: 196\n    nhev: 0"
     },
     "execution_count": 25,
     "metadata": {},
     "output_type": "execute_result"
    }
   ],
   "source": [
    "def rosenbrock(x: np.ndarray):\n",
    "    # rosenbrock\n",
    "    cost = 0\n",
    "    for i in range(x.shape[0] - 1):\n",
    "        cost += 100 * (x[i + 1] - x[i]**2)**2 + (x[i] - 1)**2\n",
    "    return cost\n",
    "\n",
    "d = 30\n",
    "bounds = [(-2.048, 2.048) for i in range(d)]\n",
    "opt.dual_annealing(rosenbrock, bounds=bounds, maxiter=1000)"
   ],
   "metadata": {
    "collapsed": false,
    "ExecuteTime": {
     "end_time": "2023-11-13T16:24:52.697787Z",
     "start_time": "2023-11-13T16:24:50.864433Z"
    }
   }
  },
  {
   "cell_type": "code",
   "execution_count": 27,
   "outputs": [
    {
     "data": {
      "text/plain": " message: ['Maximum number of iteration reached']\n success: True\n  status: 0\n     fun: 1.4785265632193386e-06\n       x: [-2.339e-08  5.846e-05 ... -1.582e-01 -1.754e-01]\n     nit: 1000\n    nfev: 62884\n    njev: 93\n    nhev: 0"
     },
     "execution_count": 27,
     "metadata": {},
     "output_type": "execute_result"
    }
   ],
   "source": [
    "def pow_sum(x: np.ndarray):\n",
    "    cost = 0\n",
    "    for i in range(x.shape[0]):\n",
    "        cost += np.abs(x[i]) ** (i + 1)\n",
    "    return cost\n",
    "\n",
    "d = 30\n",
    "bounds = [(-1, 1) for _ in range(d)]\n",
    "opt.dual_annealing(pow_sum, bounds=bounds, maxiter=1000)"
   ],
   "metadata": {
    "collapsed": false,
    "ExecuteTime": {
     "end_time": "2023-11-13T16:30:10.515278Z",
     "start_time": "2023-11-13T16:30:08.841412Z"
    }
   }
  },
  {
   "cell_type": "code",
   "execution_count": 28,
   "outputs": [
    {
     "data": {
      "text/plain": " message: ['Maximum number of iteration reached']\n success: True\n  status: 0\n     fun: 1.9911816639961444e-08\n       x: [-4.999e-09 -4.172e-09 ... -5.000e-09 -5.000e-09]\n     nit: 1000\n    nfev: 71998\n    njev: 387\n    nhev: 0"
     },
     "execution_count": 28,
     "metadata": {},
     "output_type": "execute_result"
    }
   ],
   "source": [
    "def ackley(x: np.ndarray):\n",
    "    # ackley function\n",
    "    cost = -20 * np.exp(-0.2 * np.sqrt(1/x.shape[0] * np.sum(np.apply_along_axis(lambda y: y**2, 0, x)))) - np.exp(1/x.shape[0] * np.sum(np.apply_along_axis(lambda y: np.cos(2 * np.pi * y), 0, x))) + 20 + np.exp(1)\n",
    "    return cost\n",
    "\n",
    "d = 30\n",
    "bounds = [(-32.768, 32.768) for _ in range(d)]\n",
    "opt.dual_annealing(ackley, bounds=bounds, maxiter=1000)"
   ],
   "metadata": {
    "collapsed": false,
    "ExecuteTime": {
     "end_time": "2023-11-13T16:30:44.071746Z",
     "start_time": "2023-11-13T16:30:41.331677Z"
    }
   }
  },
  {
   "cell_type": "code",
   "execution_count": 30,
   "outputs": [
    {
     "data": {
      "text/plain": " message: ['Maximum number of iteration reached']\n success: True\n  status: 0\n     fun: 1.7053025658242404e-13\n       x: [-6.054e-09  7.836e-09 ... -2.020e-09 -6.595e-09]\n     nit: 1000\n    nfev: 81825\n    njev: 704\n    nhev: 0"
     },
     "execution_count": 30,
     "metadata": {},
     "output_type": "execute_result"
    }
   ],
   "source": [
    "def rastrigin(x: np.ndarray):\n",
    "    return 10 * x.shape[0] + np.sum(np.apply_along_axis(lambda y: y**2 - 10 * np.cos(2 * np.pi * y), 0, x))\n",
    "\n",
    "d = 30\n",
    "bounds = [(-600, 600) for _ in range(d)]\n",
    "opt.dual_annealing(rastrigin, bounds=bounds, maxiter=1000)"
   ],
   "metadata": {
    "collapsed": false,
    "ExecuteTime": {
     "end_time": "2023-11-13T16:31:27.698975Z",
     "start_time": "2023-11-13T16:31:25.492717Z"
    }
   }
  },
  {
   "cell_type": "code",
   "execution_count": 31,
   "outputs": [
    {
     "data": {
      "text/plain": " message: ['Maximum number of iteration reached']\n success: True\n  status: 0\n     fun: 1.8144308278067456e-10\n       x: [-7.279e-07 -3.833e-06 ... -9.680e-07  8.264e-06]\n     nit: 1000\n    nfev: 60962\n    njev: 31\n    nhev: 0"
     },
     "execution_count": 31,
     "metadata": {},
     "output_type": "execute_result"
    }
   ],
   "source": [
    "def griewangk(x: np.ndarray):\n",
    "    cost = 1/4000 * np.sum(np.apply_along_axis(lambda y: y**2, 0, x))\n",
    "    prod = 1\n",
    "    for i in range(x.shape[0]):\n",
    "        prod *= np.cos(x[i] / np.sqrt(i + 1))\n",
    "    return cost - prod + 1\n",
    "\n",
    "d = 30\n",
    "bounds = [(-600, 600) for _ in range(d)]\n",
    "opt.dual_annealing(griewangk, bounds=bounds, maxiter=1000)"
   ],
   "metadata": {
    "collapsed": false,
    "ExecuteTime": {
     "end_time": "2023-11-13T16:32:20.371182Z",
     "start_time": "2023-11-13T16:32:16.940690Z"
    }
   }
  },
  {
   "cell_type": "code",
   "execution_count": 32,
   "outputs": [
    {
     "data": {
      "text/plain": " message: ['Maximum number of iteration reached']\n success: True\n  status: 0\n     fun: 0.9980038382445959\n       x: [-3.197e+01 -3.197e+01]\n     nit: 1000\n    nfev: 4142\n    njev: 47\n    nhev: 0"
     },
     "execution_count": 32,
     "metadata": {},
     "output_type": "execute_result"
    }
   ],
   "source": [
    "def dejong_5(x: np.ndarray):\n",
    "    return bf.DeJong5()(x)\n",
    "\n",
    "bounds = [(-65.536, 65.636), (-65.536, 65.636)]\n",
    "opt.dual_annealing(dejong_5, bounds=bounds, maxiter=1000)"
   ],
   "metadata": {
    "collapsed": false,
    "ExecuteTime": {
     "end_time": "2023-11-13T16:32:52.555970Z",
     "start_time": "2023-11-13T16:32:52.418347Z"
    }
   }
  },
  {
   "cell_type": "code",
   "execution_count": 33,
   "outputs": [
    {
     "data": {
      "text/plain": " message: ['Maximum number of iteration reached']\n success: True\n  status: 0\n     fun: -80\n       x: [-3.082e+00 -3.450e+00 ... -3.417e+00 -3.495e+00]\n     nit: 1000\n    nfev: 40337\n    njev: 16\n    nhev: 0"
     },
     "execution_count": 33,
     "metadata": {},
     "output_type": "execute_result"
    }
   ],
   "source": [
    "def dejong_3(x: np.ndarray):\n",
    "    return bf.DeJong3(n_dimensions=20)(x)\n",
    "\n",
    "d = 30\n",
    "bounds = [(-3.5, 3.8) for i in range(20)]\n",
    "opt.dual_annealing(dejong_3, bounds=bounds, maxiter=1000)"
   ],
   "metadata": {
    "collapsed": false,
    "ExecuteTime": {
     "end_time": "2023-11-13T16:33:25.112554Z",
     "start_time": "2023-11-13T16:33:24.154215Z"
    }
   }
  },
  {
   "cell_type": "code",
   "execution_count": null,
   "outputs": [],
   "source": [],
   "metadata": {
    "collapsed": false
   }
  }
 ],
 "metadata": {
  "kernelspec": {
   "display_name": "Python 3",
   "language": "python",
   "name": "python3"
  },
  "language_info": {
   "codemirror_mode": {
    "name": "ipython",
    "version": 2
   },
   "file_extension": ".py",
   "mimetype": "text/x-python",
   "name": "python",
   "nbconvert_exporter": "python",
   "pygments_lexer": "ipython2",
   "version": "2.7.6"
  }
 },
 "nbformat": 4,
 "nbformat_minor": 0
}
