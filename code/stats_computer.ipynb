{
 "cells": [
  {
   "cell_type": "code",
   "execution_count": 1,
   "metadata": {
    "collapsed": true,
    "ExecuteTime": {
     "end_time": "2023-11-29T02:07:51.940092Z",
     "start_time": "2023-11-29T02:07:50.803255Z"
    }
   },
   "outputs": [],
   "source": [
    "import numpy as np\n",
    "from typing import *\n",
    "from dataclasses import dataclass\n",
    "import os\n",
    "import pandas as pd\n",
    "import scipy.stats as stats"
   ]
  },
  {
   "cell_type": "code",
   "execution_count": 2,
   "outputs": [],
   "source": [
    "@dataclass\n",
    "class run_data:\n",
    "    last_val_mean: float\n",
    "    iter_to_vtr_mean: float\n",
    "    nfev_mean: float\n",
    "    last_val_std: float\n",
    "    iter_to_vtr_std: float\n",
    "    nfev_std: float\n",
    "    time_mean: float\n",
    "    time_std: float\n",
    "\n",
    "# pandas dataframe template columns\n",
    "columns = [\"last val mean\", \"iter to vtr mean\", \"nfev mean\", \"last val std\", \"iter to vtr std\", \"nfev std\", \"time mean\", \"time std\"]\n",
    "statistics_test_columns = [\"last val pvalue\", \"iter to vtr pvalue\", \"nfev pvalue\", \"time pvalue\"]\n",
    "test_names = [\n",
    "    \"sphere\", \"weighted_sphere\", \"schwefel_1_2\", \"schwefel_2_3\",\n",
    "    \"rotated_hyper_ellipsoid\", \"rosenbrock\", \"pow_sum\", \"easom\",\n",
    "    \"ackley\", \"rastrigin\", \"griewangk\", \"dejong_5\",\n",
    "    \"dejong_3\"\n",
    "]"
   ],
   "metadata": {
    "collapsed": false,
    "ExecuteTime": {
     "end_time": "2023-11-29T02:07:51.943492Z",
     "start_time": "2023-11-29T02:07:51.942275Z"
    }
   }
  },
  {
   "cell_type": "code",
   "execution_count": 3,
   "outputs": [],
   "source": [
    "def get_run_data(filepath):\n",
    "    with open(filepath, \"r\") as f:\n",
    "        data = f.read().splitlines()\n",
    "    last_val = float(data[0])\n",
    "    iter_to_vtr = int(data[1])\n",
    "    nfev = int(data[2])\n",
    "    time = float(data[3])\n",
    "    return last_val, iter_to_vtr, nfev, time\n",
    "\n",
    "def read_all_data_for_test(algorithm_name:str, test_name: str, n: int = 30):\n",
    "    last_val_array = []\n",
    "    iter_to_vtr_arr = []\n",
    "    nfev_arr = []\n",
    "    time_arr = []\n",
    "\n",
    "    for i in range(n):\n",
    "        filepath = f\"results/{algorithm_name}/{test_name}/{i}.txt\"\n",
    "        last_val, iter_to_vtr, nfev, time = get_run_data(filepath)\n",
    "        last_val_array.append(last_val)\n",
    "        iter_to_vtr_arr.append(iter_to_vtr)\n",
    "        time_arr.append(time)\n",
    "        nfev_arr.append(nfev)\n",
    "\n",
    "    last_val_array = np.array(last_val_array, np.float64)\n",
    "    iter_to_vtr_arr = np.array(iter_to_vtr_arr, np.float64)\n",
    "    nfev_arr = np.array(nfev_arr, np.float64)\n",
    "    time_arr = np.array(time_arr, np.float64)\n",
    "\n",
    "    return last_val_array, iter_to_vtr_arr, nfev_arr, time_arr\n",
    "\n",
    "def compute_all_for_test(algorithm_name:str, test_name: str, n: int = 30):\n",
    "\n",
    "    last_val_array, iter_to_vtr_arr, nfev_arr, time_arr = read_all_data_for_test(algorithm_name, test_name, n)\n",
    "\n",
    "    last_val_mean = np.mean(last_val_array)\n",
    "    last_val_std = np.std(last_val_array)\n",
    "\n",
    "    iter_to_vtr_mean = np.mean(iter_to_vtr_arr)\n",
    "    iter_to_vtr_std = np.std(iter_to_vtr_arr)\n",
    "\n",
    "    nfev_mean = np.mean(nfev_arr)\n",
    "    nfev_std = np.std(nfev_arr)\n",
    "\n",
    "    time_mean = np.mean(time_arr)\n",
    "    time_std = np.std(time_arr)\n",
    "\n",
    "    data = run_data(last_val_mean, iter_to_vtr_mean, nfev_mean, last_val_std, iter_to_vtr_std, nfev_std, time_mean, time_std)\n",
    "\n",
    "    return data\n",
    "\n"
   ],
   "metadata": {
    "collapsed": false,
    "ExecuteTime": {
     "end_time": "2023-11-29T02:07:51.947644Z",
     "start_time": "2023-11-29T02:07:51.946498Z"
    }
   }
  },
  {
   "cell_type": "code",
   "execution_count": 4,
   "outputs": [],
   "source": [
    "def make_stats_table(algo1_name: str, algo2_name: str, test_names: List[str] = test_names):\n",
    "    statistics_test_df = pd.DataFrame(columns=statistics_test_columns)\n",
    "    for test_name in test_names:\n",
    "        print(f\"Test name: {test_name}\")\n",
    "        last_val_less, iter_to_vtr_less, nfev_less, time_less = compare_algorithms(algo1_name, algo2_name, test_name)\n",
    "        last_val_pvalue = last_val_less.pvalue if last_val_less is not None else None\n",
    "        iter_to_vtr_pvalue = iter_to_vtr_less.pvalue if iter_to_vtr_less is not None else None\n",
    "        nfev_pvalue = nfev_less.pvalue if nfev_less is not None else None\n",
    "        time_pvalue = time_less.pvalue if time_less is not None else None\n",
    "        statistics_test_df.loc[test_name.replace(\"_\", \" \")] = [last_val_pvalue, iter_to_vtr_pvalue, nfev_pvalue, time_pvalue]\n",
    "    return statistics_test_df"
   ],
   "metadata": {
    "collapsed": false,
    "ExecuteTime": {
     "end_time": "2023-11-29T02:07:51.950328Z",
     "start_time": "2023-11-29T02:07:51.949370Z"
    }
   }
  },
  {
   "cell_type": "code",
   "execution_count": 10,
   "outputs": [],
   "source": [
    "def make_values_table(algo_name: str, test_names: List[str] = test_names):\n",
    "    values_df = pd.DataFrame(columns=columns)\n",
    "\n",
    "    for test_name in os.listdir(f\"results/{algo_name}\"):\n",
    "        if test_name not in test_names:\n",
    "            continue\n",
    "\n",
    "        data = compute_all_for_test(algo_name, test_name)\n",
    "        values_df.loc[test_name.replace(\"_\", \" \")] = [\n",
    "            data.last_val_mean,\n",
    "            data.iter_to_vtr_mean,\n",
    "            data.nfev_mean,\n",
    "            data.last_val_std,\n",
    "            data.iter_to_vtr_std,\n",
    "            data.nfev_std,\n",
    "            data.time_mean,\n",
    "            data.time_std\n",
    "        ]\n",
    "\n",
    "    return values_df"
   ],
   "metadata": {
    "collapsed": false,
    "ExecuteTime": {
     "end_time": "2023-11-29T02:30:21.754527Z",
     "start_time": "2023-11-29T02:30:21.745929Z"
    }
   }
  },
  {
   "cell_type": "code",
   "execution_count": 11,
   "outputs": [
    {
     "data": {
      "text/plain": "                         last val mean  iter to vtr mean      nfev mean  \\\nschwefel 1 2              4.835481e-17         60.933333   14297.633333   \nrotated hyper ellipsoid   6.462255e-58         41.333333   10316.500000   \nackley                    1.501022e-14        237.066667   35099.400000   \ndejong 5                  9.980038e-01         15.700000     668.000000   \ndejong 3                  0.000000e+00         58.800000    2392.000000   \nschwefel 2 3              3.818270e-04        191.833333  109502.633333   \nsphere                    1.873583e-62          3.300000     525.400000   \nweighted sphere           1.578390e-59         48.733333   11915.533333   \npow sum                   1.046378e-76         52.666667    5128.366667   \nrosenbrock                6.338919e-15        318.000000   77172.833333   \nrastrigin                 7.200166e-14        506.433333  135240.333333   \ngriewangk                 3.330669e-17         16.600000    4576.933333   \neasom                     0.000000e+00        147.866667    5954.666667   \n\n                         last val std  iter to vtr std      nfev std  \\\nschwefel 1 2             1.738446e-16        11.048177   2055.950769   \nrotated hyper ellipsoid  1.919758e-57         4.671426   1873.696538   \nackley                   1.406205e-15        21.436625   3493.921766   \ndejong 5                 1.516853e-16         2.968164    118.726577   \ndejong 3                 0.000000e+00         3.944617    157.784663   \nschwefel 2 3             9.767181e-12        11.684986   7923.498308   \nsphere                   5.433269e-62         2.396525    229.006201   \nweighted sphere          4.124422e-59         5.876129   1813.343978   \npow sum                  2.666474e-76         6.257440   2162.491503   \nrosenbrock               1.416896e-14        44.183707  12335.362886   \nrastrigin                2.513711e-14        22.212134  10776.964728   \ngriewangk                9.132667e-17         6.606058   1782.871260   \neasom                    0.000000e+00       161.026444   6441.057746   \n\n                         time mean  time std  \nschwefel 1 2              0.770191  0.110274  \nrotated hyper ellipsoid   3.070522  0.560805  \nackley                    1.115078  0.107473  \ndejong 5                  0.015408  0.002640  \ndejong 3                  0.053581  0.003475  \nschwefel 2 3              1.956024  0.138482  \nsphere                    0.010150  0.004313  \nweighted sphere           0.135625  0.017109  \npow sum                   0.118282  0.039997  \nrosenbrock                1.429947  0.221831  \nrastrigin                 2.641939  0.211987  \ngriewangk                 0.212114  0.082715  \neasom                     0.080347  0.088133  ",
      "text/html": "<div>\n<style scoped>\n    .dataframe tbody tr th:only-of-type {\n        vertical-align: middle;\n    }\n\n    .dataframe tbody tr th {\n        vertical-align: top;\n    }\n\n    .dataframe thead th {\n        text-align: right;\n    }\n</style>\n<table border=\"1\" class=\"dataframe\">\n  <thead>\n    <tr style=\"text-align: right;\">\n      <th></th>\n      <th>last val mean</th>\n      <th>iter to vtr mean</th>\n      <th>nfev mean</th>\n      <th>last val std</th>\n      <th>iter to vtr std</th>\n      <th>nfev std</th>\n      <th>time mean</th>\n      <th>time std</th>\n    </tr>\n  </thead>\n  <tbody>\n    <tr>\n      <th>schwefel 1 2</th>\n      <td>4.835481e-17</td>\n      <td>60.933333</td>\n      <td>14297.633333</td>\n      <td>1.738446e-16</td>\n      <td>11.048177</td>\n      <td>2055.950769</td>\n      <td>0.770191</td>\n      <td>0.110274</td>\n    </tr>\n    <tr>\n      <th>rotated hyper ellipsoid</th>\n      <td>6.462255e-58</td>\n      <td>41.333333</td>\n      <td>10316.500000</td>\n      <td>1.919758e-57</td>\n      <td>4.671426</td>\n      <td>1873.696538</td>\n      <td>3.070522</td>\n      <td>0.560805</td>\n    </tr>\n    <tr>\n      <th>ackley</th>\n      <td>1.501022e-14</td>\n      <td>237.066667</td>\n      <td>35099.400000</td>\n      <td>1.406205e-15</td>\n      <td>21.436625</td>\n      <td>3493.921766</td>\n      <td>1.115078</td>\n      <td>0.107473</td>\n    </tr>\n    <tr>\n      <th>dejong 5</th>\n      <td>9.980038e-01</td>\n      <td>15.700000</td>\n      <td>668.000000</td>\n      <td>1.516853e-16</td>\n      <td>2.968164</td>\n      <td>118.726577</td>\n      <td>0.015408</td>\n      <td>0.002640</td>\n    </tr>\n    <tr>\n      <th>dejong 3</th>\n      <td>0.000000e+00</td>\n      <td>58.800000</td>\n      <td>2392.000000</td>\n      <td>0.000000e+00</td>\n      <td>3.944617</td>\n      <td>157.784663</td>\n      <td>0.053581</td>\n      <td>0.003475</td>\n    </tr>\n    <tr>\n      <th>schwefel 2 3</th>\n      <td>3.818270e-04</td>\n      <td>191.833333</td>\n      <td>109502.633333</td>\n      <td>9.767181e-12</td>\n      <td>11.684986</td>\n      <td>7923.498308</td>\n      <td>1.956024</td>\n      <td>0.138482</td>\n    </tr>\n    <tr>\n      <th>sphere</th>\n      <td>1.873583e-62</td>\n      <td>3.300000</td>\n      <td>525.400000</td>\n      <td>5.433269e-62</td>\n      <td>2.396525</td>\n      <td>229.006201</td>\n      <td>0.010150</td>\n      <td>0.004313</td>\n    </tr>\n    <tr>\n      <th>weighted sphere</th>\n      <td>1.578390e-59</td>\n      <td>48.733333</td>\n      <td>11915.533333</td>\n      <td>4.124422e-59</td>\n      <td>5.876129</td>\n      <td>1813.343978</td>\n      <td>0.135625</td>\n      <td>0.017109</td>\n    </tr>\n    <tr>\n      <th>pow sum</th>\n      <td>1.046378e-76</td>\n      <td>52.666667</td>\n      <td>5128.366667</td>\n      <td>2.666474e-76</td>\n      <td>6.257440</td>\n      <td>2162.491503</td>\n      <td>0.118282</td>\n      <td>0.039997</td>\n    </tr>\n    <tr>\n      <th>rosenbrock</th>\n      <td>6.338919e-15</td>\n      <td>318.000000</td>\n      <td>77172.833333</td>\n      <td>1.416896e-14</td>\n      <td>44.183707</td>\n      <td>12335.362886</td>\n      <td>1.429947</td>\n      <td>0.221831</td>\n    </tr>\n    <tr>\n      <th>rastrigin</th>\n      <td>7.200166e-14</td>\n      <td>506.433333</td>\n      <td>135240.333333</td>\n      <td>2.513711e-14</td>\n      <td>22.212134</td>\n      <td>10776.964728</td>\n      <td>2.641939</td>\n      <td>0.211987</td>\n    </tr>\n    <tr>\n      <th>griewangk</th>\n      <td>3.330669e-17</td>\n      <td>16.600000</td>\n      <td>4576.933333</td>\n      <td>9.132667e-17</td>\n      <td>6.606058</td>\n      <td>1782.871260</td>\n      <td>0.212114</td>\n      <td>0.082715</td>\n    </tr>\n    <tr>\n      <th>easom</th>\n      <td>0.000000e+00</td>\n      <td>147.866667</td>\n      <td>5954.666667</td>\n      <td>0.000000e+00</td>\n      <td>161.026444</td>\n      <td>6441.057746</td>\n      <td>0.080347</td>\n      <td>0.088133</td>\n    </tr>\n  </tbody>\n</table>\n</div>"
     },
     "execution_count": 11,
     "metadata": {},
     "output_type": "execute_result"
    }
   ],
   "source": [
    "make_values_table(\"ttp_de_sa_2\")"
   ],
   "metadata": {
    "collapsed": false,
    "ExecuteTime": {
     "end_time": "2023-11-29T02:30:22.165843Z",
     "start_time": "2023-11-29T02:30:22.148119Z"
    }
   }
  },
  {
   "cell_type": "code",
   "execution_count": 7,
   "outputs": [
    {
     "data": {
      "text/plain": "                         last val mean  iter to vtr mean      nfev mean  \\\nschwefel 1 2              1.407093e-14        138.700000   26772.366667   \nrotated hyper ellipsoid   2.758236e-29        141.466667   21153.200000   \nackley                    1.005919e-01        384.800000   50376.866667   \ndejong 5                  1.031138e+00         45.533333    1861.333333   \ndejong 3                  0.000000e+00         49.266667    2010.666667   \nschwefel 2 3              3.948326e+00        215.400000   44491.100000   \nsphere                    2.035899e-35          4.900000     572.866667   \nweighted sphere           1.227194e-32        144.266667   21541.100000   \npow sum                   2.206166e-47         89.200000   37501.866667   \nrosenbrock                9.498993e-10        671.666667  472662.900000   \nrastrigin                 6.442254e-14        533.066667   99007.333333   \ngriewangk                 0.000000e+00         76.666667   14310.066667   \neasom                     3.333063e-02        166.100000    6684.000000   \n\n                         last val std  iter to vtr std      nfev std  \\\nschwefel 1 2             1.727412e-14        18.160672   3533.875366   \nrotated hyper ellipsoid  3.884724e-29        14.662272   2103.791837   \nackley                   3.036150e-01       213.834422  11817.838380   \ndejong 5                 1.784333e-01       177.252500   7090.100015   \ndejong 3                 0.000000e+00         6.292500    251.699998   \nschwefel 2 3             2.126033e+01       146.758668  16899.047560   \nsphere                   4.994175e-35         3.927255    185.111090   \nweighted sphere          1.097175e-32         9.715738   1734.671484   \npow sum                  9.445805e-47        10.287209   5284.651668   \nrosenbrock               4.337129e-09       108.599980  72353.780017   \nrastrigin                2.426503e-14        45.853341  25300.556222   \ngriewangk                0.000000e+00        29.034845   4924.255361   \neasom                    1.794909e-01       163.732984   6549.319354   \n\n                         time mean  time std  \nschwefel 1 2              2.195855  0.290406  \nrotated hyper ellipsoid   1.956137  0.189677  \nackley                    1.600632  0.426450  \ndejong 5                  0.043204  0.167801  \ndejong 3                  0.045428  0.007480  \nschwefel 2 3              0.878110  0.358657  \nsphere                    0.011654  0.004416  \nweighted sphere           0.269840  0.019684  \npow sum                   0.707702  0.096462  \nrosenbrock                8.033742  1.238137  \nrastrigin                 2.115568  0.603543  \ngriewangk                 0.662303  0.226518  \neasom                     0.089671  0.087604  ",
      "text/html": "<div>\n<style scoped>\n    .dataframe tbody tr th:only-of-type {\n        vertical-align: middle;\n    }\n\n    .dataframe tbody tr th {\n        vertical-align: top;\n    }\n\n    .dataframe thead th {\n        text-align: right;\n    }\n</style>\n<table border=\"1\" class=\"dataframe\">\n  <thead>\n    <tr style=\"text-align: right;\">\n      <th></th>\n      <th>last val mean</th>\n      <th>iter to vtr mean</th>\n      <th>nfev mean</th>\n      <th>last val std</th>\n      <th>iter to vtr std</th>\n      <th>nfev std</th>\n      <th>time mean</th>\n      <th>time std</th>\n    </tr>\n  </thead>\n  <tbody>\n    <tr>\n      <th>schwefel 1 2</th>\n      <td>1.407093e-14</td>\n      <td>138.700000</td>\n      <td>26772.366667</td>\n      <td>1.727412e-14</td>\n      <td>18.160672</td>\n      <td>3533.875366</td>\n      <td>2.195855</td>\n      <td>0.290406</td>\n    </tr>\n    <tr>\n      <th>rotated hyper ellipsoid</th>\n      <td>2.758236e-29</td>\n      <td>141.466667</td>\n      <td>21153.200000</td>\n      <td>3.884724e-29</td>\n      <td>14.662272</td>\n      <td>2103.791837</td>\n      <td>1.956137</td>\n      <td>0.189677</td>\n    </tr>\n    <tr>\n      <th>ackley</th>\n      <td>1.005919e-01</td>\n      <td>384.800000</td>\n      <td>50376.866667</td>\n      <td>3.036150e-01</td>\n      <td>213.834422</td>\n      <td>11817.838380</td>\n      <td>1.600632</td>\n      <td>0.426450</td>\n    </tr>\n    <tr>\n      <th>dejong 5</th>\n      <td>1.031138e+00</td>\n      <td>45.533333</td>\n      <td>1861.333333</td>\n      <td>1.784333e-01</td>\n      <td>177.252500</td>\n      <td>7090.100015</td>\n      <td>0.043204</td>\n      <td>0.167801</td>\n    </tr>\n    <tr>\n      <th>dejong 3</th>\n      <td>0.000000e+00</td>\n      <td>49.266667</td>\n      <td>2010.666667</td>\n      <td>0.000000e+00</td>\n      <td>6.292500</td>\n      <td>251.699998</td>\n      <td>0.045428</td>\n      <td>0.007480</td>\n    </tr>\n    <tr>\n      <th>schwefel 2 3</th>\n      <td>3.948326e+00</td>\n      <td>215.400000</td>\n      <td>44491.100000</td>\n      <td>2.126033e+01</td>\n      <td>146.758668</td>\n      <td>16899.047560</td>\n      <td>0.878110</td>\n      <td>0.358657</td>\n    </tr>\n    <tr>\n      <th>sphere</th>\n      <td>2.035899e-35</td>\n      <td>4.900000</td>\n      <td>572.866667</td>\n      <td>4.994175e-35</td>\n      <td>3.927255</td>\n      <td>185.111090</td>\n      <td>0.011654</td>\n      <td>0.004416</td>\n    </tr>\n    <tr>\n      <th>weighted sphere</th>\n      <td>1.227194e-32</td>\n      <td>144.266667</td>\n      <td>21541.100000</td>\n      <td>1.097175e-32</td>\n      <td>9.715738</td>\n      <td>1734.671484</td>\n      <td>0.269840</td>\n      <td>0.019684</td>\n    </tr>\n    <tr>\n      <th>pow sum</th>\n      <td>2.206166e-47</td>\n      <td>89.200000</td>\n      <td>37501.866667</td>\n      <td>9.445805e-47</td>\n      <td>10.287209</td>\n      <td>5284.651668</td>\n      <td>0.707702</td>\n      <td>0.096462</td>\n    </tr>\n    <tr>\n      <th>rosenbrock</th>\n      <td>9.498993e-10</td>\n      <td>671.666667</td>\n      <td>472662.900000</td>\n      <td>4.337129e-09</td>\n      <td>108.599980</td>\n      <td>72353.780017</td>\n      <td>8.033742</td>\n      <td>1.238137</td>\n    </tr>\n    <tr>\n      <th>rastrigin</th>\n      <td>6.442254e-14</td>\n      <td>533.066667</td>\n      <td>99007.333333</td>\n      <td>2.426503e-14</td>\n      <td>45.853341</td>\n      <td>25300.556222</td>\n      <td>2.115568</td>\n      <td>0.603543</td>\n    </tr>\n    <tr>\n      <th>griewangk</th>\n      <td>0.000000e+00</td>\n      <td>76.666667</td>\n      <td>14310.066667</td>\n      <td>0.000000e+00</td>\n      <td>29.034845</td>\n      <td>4924.255361</td>\n      <td>0.662303</td>\n      <td>0.226518</td>\n    </tr>\n    <tr>\n      <th>easom</th>\n      <td>3.333063e-02</td>\n      <td>166.100000</td>\n      <td>6684.000000</td>\n      <td>1.794909e-01</td>\n      <td>163.732984</td>\n      <td>6549.319354</td>\n      <td>0.089671</td>\n      <td>0.087604</td>\n    </tr>\n  </tbody>\n</table>\n</div>"
     },
     "execution_count": 7,
     "metadata": {},
     "output_type": "execute_result"
    }
   ],
   "source": [
    "make_values_table(\"de_da\")"
   ],
   "metadata": {
    "collapsed": false,
    "ExecuteTime": {
     "end_time": "2023-11-24T16:40:45.249083Z",
     "start_time": "2023-11-24T16:40:45.174164Z"
    }
   }
  },
  {
   "cell_type": "code",
   "execution_count": 8,
   "outputs": [
    {
     "data": {
      "text/plain": "                         last val mean  iter to vtr mean     nfev mean  \\\nschwefel 1 2              7.927917e+02       1000.000000  40378.266667   \nrotated hyper ellipsoid   2.604423e-17        200.233333   8089.900000   \nackley                    3.085055e-11        318.033333  12805.766667   \ndejong 5                  9.980038e-01        195.033333   7954.866667   \ndejong 3                  0.000000e+00         27.066667   1162.666667   \nschwefel 2 3              1.069657e+04       1000.000000  40365.866667   \nsphere                    2.028771e-17        182.333333   7373.666667   \nweighted sphere           1.034165e+01       1000.000000  40246.433333   \npow sum                   2.388689e-17        102.666667   4187.000000   \nrosenbrock                2.850711e+01       1000.000000  40948.900000   \nrastrigin                 1.135732e-11        296.866667   2990.500000   \ngriewangk                 0.000000e+00        190.300000   7692.333333   \neasom                     2.133865e-05       1000.000000  40589.333333   \n\n                         last val std  iter to vtr std     nfev std  \\\nschwefel 1 2             3.756026e+02         0.000000    11.051194   \nrotated hyper ellipsoid  1.344935e-17         8.747127   349.943457   \nackley                   1.072601e-10        20.105527   805.361148   \ndejong 5                 1.178346e-08       138.168372  5590.000732   \ndejong 3                 0.000000e+00         8.988635   359.545392   \nschwefel 2 3             3.569357e+01         0.000000    26.248471   \nsphere                   8.058770e-18         9.217134   368.829078   \nweighted sphere          4.208832e+00         0.000000    11.427112   \npow sum                  3.723869e-17         6.614798   264.916591   \nrosenbrock               1.459359e-01         0.000000    12.827964   \nrastrigin                3.747440e-11        37.727738   378.056058   \ngriewangk                0.000000e+00        12.143997   485.971490   \neasom                    2.525538e-05         0.000000    26.642489   \n\n                         time mean  time std  \nschwefel 1 2             13.678487  0.159284  \nrotated hyper ellipsoid   2.689057  0.198244  \nackley                    0.724714  0.056247  \ndejong 5                  0.325341  0.239657  \ndejong 3                  0.047273  0.016510  \nschwefel 2 3              1.811865  0.057593  \nsphere                    0.323011  0.026333  \nweighted sphere           1.643844  0.033516  \npow sum                   0.192799  0.017071  \nrosenbrock                1.922184  0.041907  \nrastrigin                 0.129452  0.017534  \ngriewangk                 0.547219  0.040028  \neasom                     0.964192  0.026450  ",
      "text/html": "<div>\n<style scoped>\n    .dataframe tbody tr th:only-of-type {\n        vertical-align: middle;\n    }\n\n    .dataframe tbody tr th {\n        vertical-align: top;\n    }\n\n    .dataframe thead th {\n        text-align: right;\n    }\n</style>\n<table border=\"1\" class=\"dataframe\">\n  <thead>\n    <tr style=\"text-align: right;\">\n      <th></th>\n      <th>last val mean</th>\n      <th>iter to vtr mean</th>\n      <th>nfev mean</th>\n      <th>last val std</th>\n      <th>iter to vtr std</th>\n      <th>nfev std</th>\n      <th>time mean</th>\n      <th>time std</th>\n    </tr>\n  </thead>\n  <tbody>\n    <tr>\n      <th>schwefel 1 2</th>\n      <td>7.927917e+02</td>\n      <td>1000.000000</td>\n      <td>40378.266667</td>\n      <td>3.756026e+02</td>\n      <td>0.000000</td>\n      <td>11.051194</td>\n      <td>13.678487</td>\n      <td>0.159284</td>\n    </tr>\n    <tr>\n      <th>rotated hyper ellipsoid</th>\n      <td>2.604423e-17</td>\n      <td>200.233333</td>\n      <td>8089.900000</td>\n      <td>1.344935e-17</td>\n      <td>8.747127</td>\n      <td>349.943457</td>\n      <td>2.689057</td>\n      <td>0.198244</td>\n    </tr>\n    <tr>\n      <th>ackley</th>\n      <td>3.085055e-11</td>\n      <td>318.033333</td>\n      <td>12805.766667</td>\n      <td>1.072601e-10</td>\n      <td>20.105527</td>\n      <td>805.361148</td>\n      <td>0.724714</td>\n      <td>0.056247</td>\n    </tr>\n    <tr>\n      <th>dejong 5</th>\n      <td>9.980038e-01</td>\n      <td>195.033333</td>\n      <td>7954.866667</td>\n      <td>1.178346e-08</td>\n      <td>138.168372</td>\n      <td>5590.000732</td>\n      <td>0.325341</td>\n      <td>0.239657</td>\n    </tr>\n    <tr>\n      <th>dejong 3</th>\n      <td>0.000000e+00</td>\n      <td>27.066667</td>\n      <td>1162.666667</td>\n      <td>0.000000e+00</td>\n      <td>8.988635</td>\n      <td>359.545392</td>\n      <td>0.047273</td>\n      <td>0.016510</td>\n    </tr>\n    <tr>\n      <th>schwefel 2 3</th>\n      <td>1.069657e+04</td>\n      <td>1000.000000</td>\n      <td>40365.866667</td>\n      <td>3.569357e+01</td>\n      <td>0.000000</td>\n      <td>26.248471</td>\n      <td>1.811865</td>\n      <td>0.057593</td>\n    </tr>\n    <tr>\n      <th>sphere</th>\n      <td>2.028771e-17</td>\n      <td>182.333333</td>\n      <td>7373.666667</td>\n      <td>8.058770e-18</td>\n      <td>9.217134</td>\n      <td>368.829078</td>\n      <td>0.323011</td>\n      <td>0.026333</td>\n    </tr>\n    <tr>\n      <th>weighted sphere</th>\n      <td>1.034165e+01</td>\n      <td>1000.000000</td>\n      <td>40246.433333</td>\n      <td>4.208832e+00</td>\n      <td>0.000000</td>\n      <td>11.427112</td>\n      <td>1.643844</td>\n      <td>0.033516</td>\n    </tr>\n    <tr>\n      <th>pow sum</th>\n      <td>2.388689e-17</td>\n      <td>102.666667</td>\n      <td>4187.000000</td>\n      <td>3.723869e-17</td>\n      <td>6.614798</td>\n      <td>264.916591</td>\n      <td>0.192799</td>\n      <td>0.017071</td>\n    </tr>\n    <tr>\n      <th>rosenbrock</th>\n      <td>2.850711e+01</td>\n      <td>1000.000000</td>\n      <td>40948.900000</td>\n      <td>1.459359e-01</td>\n      <td>0.000000</td>\n      <td>12.827964</td>\n      <td>1.922184</td>\n      <td>0.041907</td>\n    </tr>\n    <tr>\n      <th>rastrigin</th>\n      <td>1.135732e-11</td>\n      <td>296.866667</td>\n      <td>2990.500000</td>\n      <td>3.747440e-11</td>\n      <td>37.727738</td>\n      <td>378.056058</td>\n      <td>0.129452</td>\n      <td>0.017534</td>\n    </tr>\n    <tr>\n      <th>griewangk</th>\n      <td>0.000000e+00</td>\n      <td>190.300000</td>\n      <td>7692.333333</td>\n      <td>0.000000e+00</td>\n      <td>12.143997</td>\n      <td>485.971490</td>\n      <td>0.547219</td>\n      <td>0.040028</td>\n    </tr>\n    <tr>\n      <th>easom</th>\n      <td>2.133865e-05</td>\n      <td>1000.000000</td>\n      <td>40589.333333</td>\n      <td>2.525538e-05</td>\n      <td>0.000000</td>\n      <td>26.642489</td>\n      <td>0.964192</td>\n      <td>0.026450</td>\n    </tr>\n  </tbody>\n</table>\n</div>"
     },
     "execution_count": 8,
     "metadata": {},
     "output_type": "execute_result"
    }
   ],
   "source": [
    "make_values_table(\"ge\")"
   ],
   "metadata": {
    "collapsed": false,
    "ExecuteTime": {
     "end_time": "2023-11-24T16:40:45.499929Z",
     "start_time": "2023-11-24T16:40:45.457020Z"
    }
   }
  },
  {
   "cell_type": "code",
   "execution_count": 12,
   "outputs": [],
   "source": [
    "\n",
    "def compare_algorithms(algo1_name: str, algo2_name: str, test_name: str, n: int = 30):\n",
    "    algo1_last_val_array, algo1_iter_to_vtr_arr, algo1_nfev_arr, algo1_time_arr = read_all_data_for_test(algo1_name, test_name, n)\n",
    "    algo2_last_val_array, algo2_iter_to_vtr_arr, algo2_nfev_arr, algo2_time_arr = read_all_data_for_test(algo2_name, test_name, n)\n",
    "\n",
    "    last_val_equal_ind = algo1_last_val_array == algo2_last_val_array\n",
    "    iter_to_vtr_equal_ind = algo1_iter_to_vtr_arr == algo2_iter_to_vtr_arr\n",
    "    nfev_equal_ind = algo1_nfev_arr == algo2_nfev_arr\n",
    "    time_equal_ind = algo1_time_arr == algo2_time_arr\n",
    "\n",
    "    last_val_less = None\n",
    "    iter_to_vtr_less = None\n",
    "    nfev_less = None\n",
    "    time_less = None\n",
    "\n",
    "    if last_val_equal_ind.shape[0] == 0 or not np.all(last_val_equal_ind):\n",
    "        last_val_less = stats.wilcoxon(algo1_last_val_array, algo2_last_val_array, alternative=\"less\")\n",
    "\n",
    "    if iter_to_vtr_equal_ind.shape[0] == 0 or not np.all(iter_to_vtr_equal_ind):\n",
    "        iter_to_vtr_less = stats.wilcoxon(algo1_iter_to_vtr_arr, algo2_iter_to_vtr_arr, alternative=\"less\")\n",
    "\n",
    "    if nfev_equal_ind.shape[0] == 0 or not np.all(nfev_equal_ind):\n",
    "        nfev_less = stats.wilcoxon(algo1_nfev_arr, algo2_nfev_arr, alternative=\"less\")\n",
    "\n",
    "    if time_equal_ind.shape[0] == 0 or not np.all(time_equal_ind):\n",
    "        time_less = stats.wilcoxon(algo1_time_arr, algo2_time_arr, alternative=\"less\")\n",
    "\n",
    "    return last_val_less, iter_to_vtr_less, nfev_less, time_less\n"
   ],
   "metadata": {
    "collapsed": false,
    "ExecuteTime": {
     "end_time": "2023-11-29T02:30:47.732372Z",
     "start_time": "2023-11-29T02:30:47.726743Z"
    }
   }
  },
  {
   "cell_type": "code",
   "execution_count": 13,
   "outputs": [
    {
     "data": {
      "text/plain": "(WilcoxonResult(statistic=0.0, pvalue=9.313225746154785e-10),\n WilcoxonResult(statistic=0.0, pvalue=9.313225746154785e-10),\n WilcoxonResult(statistic=465.0, pvalue=1.0),\n WilcoxonResult(statistic=465.0, pvalue=1.0))"
     },
     "execution_count": 13,
     "metadata": {},
     "output_type": "execute_result"
    }
   ],
   "source": [
    "compare_algorithms(\"ttp_de_sa\", \"ge\", \"rosenbrock\")\n"
   ],
   "metadata": {
    "collapsed": false,
    "ExecuteTime": {
     "end_time": "2023-11-29T02:30:48.968872Z",
     "start_time": "2023-11-29T02:30:48.953986Z"
    }
   }
  },
  {
   "cell_type": "code",
   "execution_count": 14,
   "outputs": [],
   "source": [
    "statistics_test_columns = [\"last val pvalue\", \"iter to vtr pvalue\", \"nfev pvalue\", \"time pvalue\"]\n",
    "\n",
    "def make_stats_table(algo1_name: str, algo2_name: str, test_names: List[str] = test_names):\n",
    "    statistics_test_df = pd.DataFrame(columns=statistics_test_columns)\n",
    "    for test_name in test_names:\n",
    "        last_val_less, iter_to_vtr_less, nfev_less, time_less = compare_algorithms(algo1_name, algo2_name, test_name)\n",
    "        last_val_pvalue = last_val_less.pvalue if last_val_less is not None else None\n",
    "        iter_to_vtr_pvalue = iter_to_vtr_less.pvalue if iter_to_vtr_less is not None else None\n",
    "        nfev_pvalue = nfev_less.pvalue if nfev_less is not None else None\n",
    "        time_pvalue = time_less.pvalue if time_less is not None else None\n",
    "        statistics_test_df.loc[test_name.replace(\"_\", \" \")] = [last_val_pvalue, iter_to_vtr_pvalue, nfev_pvalue, time_pvalue]\n",
    "    return statistics_test_df.fillna(1.0)\n",
    "\n",
    "def make_stats_table_all_for_one(algo_name: Tuple[str, str], comparing_algo_names: List[Tuple[str,str]], test_names: List[str] = test_names):\n",
    "    latex_table_rows = \"\"\n",
    "    latex_row_template = \"\"\"\n",
    "\\\\thead{FUNC_NAME}\n",
    "    &   \\\\thead{VAL_GE}\n",
    "        &   \\\\thead{VAL_DE}\n",
    "            &   \\\\thead{VAL_DA}\n",
    "                &   \\\\thead{VAL_ABC}\n",
    "                    &   \\\\thead{VAL_PSO}\\\\\\\\\"\"\"\n",
    "    algo_name_only = algo_name[0]\n",
    "    for test in test_names:\n",
    "        latex_row = latex_row_template.replace(\"FUNC_NAME\", test.replace(\"_\", \" \"))\n",
    "        for comparing_algo_name, comparing_algo_label in comparing_algo_names:\n",
    "            stat_df = make_stats_table(algo_name_only, comparing_algo_name, [test])\n",
    "            latex_row = latex_row.replace(f\"VAL_{comparing_algo_label}\", f\"{stat_df.loc[test.replace('_', ' ')]['last val pvalue']:.2e}\")\n",
    "        latex_table_rows += latex_row\n",
    "    print(latex_table_rows)\n",
    "    return latex_table_rows\n"
   ],
   "metadata": {
    "collapsed": false,
    "ExecuteTime": {
     "end_time": "2023-11-29T02:30:49.410287Z",
     "start_time": "2023-11-29T02:30:49.407332Z"
    }
   }
  },
  {
   "cell_type": "code",
   "execution_count": 15,
   "outputs": [
    {
     "name": "stdout",
     "output_type": "stream",
     "text": [
      "\n",
      "\\thead{sphere}\n",
      "    &   \\thead{9.31e-10}\n",
      "        &   \\thead{9.31e-10}\n",
      "            &   \\thead{9.31e-10}\n",
      "                &   \\thead{9.31e-10}\n",
      "                    &   \\thead{9.31e-10}\\\\\n",
      "\\thead{weighted sphere}\n",
      "    &   \\thead{9.31e-10}\n",
      "        &   \\thead{9.31e-10}\n",
      "            &   \\thead{9.31e-10}\n",
      "                &   \\thead{9.31e-10}\n",
      "                    &   \\thead{9.31e-10}\\\\\n",
      "\\thead{schwefel 1 2}\n",
      "    &   \\thead{9.31e-10}\n",
      "        &   \\thead{9.31e-10}\n",
      "            &   \\thead{9.31e-10}\n",
      "                &   \\thead{9.31e-10}\n",
      "                    &   \\thead{9.31e-10}\\\\\n",
      "\\thead{schwefel 2 3}\n",
      "    &   \\thead{9.31e-10}\n",
      "        &   \\thead{9.31e-10}\n",
      "            &   \\thead{9.31e-10}\n",
      "                &   \\thead{9.31e-10}\n",
      "                    &   \\thead{9.31e-10}\\\\\n",
      "\\thead{rotated hyper ellipsoid}\n",
      "    &   \\thead{9.31e-10}\n",
      "        &   \\thead{9.31e-10}\n",
      "            &   \\thead{9.31e-10}\n",
      "                &   \\thead{9.31e-10}\n",
      "                    &   \\thead{9.31e-10}\\\\\n",
      "\\thead{rosenbrock}\n",
      "    &   \\thead{9.31e-10}\n",
      "        &   \\thead{9.31e-10}\n",
      "            &   \\thead{9.31e-10}\n",
      "                &   \\thead{9.31e-10}\n",
      "                    &   \\thead{9.31e-10}\\\\\n",
      "\\thead{pow sum}\n",
      "    &   \\thead{9.31e-10}\n",
      "        &   \\thead{9.31e-10}\n",
      "            &   \\thead{9.31e-10}\n",
      "                &   \\thead{9.31e-10}\n",
      "                    &   \\thead{9.31e-10}\\\\\n",
      "\\thead{easom}\n",
      "    &   \\thead{9.31e-10}\n",
      "        &   \\thead{1.00e+00}\n",
      "            &   \\thead{2.80e-06}\n",
      "                &   \\thead{9.31e-10}\n",
      "                    &   \\thead{1.00e+00}\\\\\n",
      "\\thead{ackley}\n",
      "    &   \\thead{9.31e-10}\n",
      "        &   \\thead{9.31e-10}\n",
      "            &   \\thead{9.31e-10}\n",
      "                &   \\thead{9.31e-10}\n",
      "                    &   \\thead{9.31e-10}\\\\\n",
      "\\thead{rastrigin}\n",
      "    &   \\thead{2.46e-06}\n",
      "        &   \\thead{9.31e-10}\n",
      "            &   \\thead{1.81e-06}\n",
      "                &   \\thead{9.31e-10}\n",
      "                    &   \\thead{9.31e-10}\\\\\n",
      "\\thead{griewangk}\n",
      "    &   \\thead{9.67e-01}\n",
      "        &   \\thead{1.04e-02}\n",
      "            &   \\thead{9.31e-10}\n",
      "                &   \\thead{9.31e-10}\n",
      "                    &   \\thead{9.31e-10}\\\\\n",
      "\\thead{dejong 5}\n",
      "    &   \\thead{9.31e-10}\n",
      "        &   \\thead{2.46e-01}\n",
      "            &   \\thead{9.31e-10}\n",
      "                &   \\thead{9.31e-10}\n",
      "                    &   \\thead{1.03e-01}\\\\\n",
      "\\thead{dejong 3}\n",
      "    &   \\thead{1.00e+00}\n",
      "        &   \\thead{1.00e+00}\n",
      "            &   \\thead{1.00e+00}\n",
      "                &   \\thead{1.00e+00}\n",
      "                    &   \\thead{1.00e+00}\\\\\n"
     ]
    }
   ],
   "source": [
    "import warnings\n",
    "warnings.filterwarnings(\"ignore\")\n",
    "res = make_stats_table_all_for_one((\"ttp_de_sa_2\", \"TTP\"), [(\"ge\", \"GE\"), (\"de\", \"DE\"), (\"da\", \"DA\"), (\"abc\", \"ABC\"), (\"pso\", \"PSO\")])"
   ],
   "metadata": {
    "collapsed": false,
    "ExecuteTime": {
     "end_time": "2023-11-29T02:30:56.789967Z",
     "start_time": "2023-11-29T02:30:56.499879Z"
    }
   }
  },
  {
   "cell_type": "code",
   "execution_count": 16,
   "outputs": [],
   "source": [
    "latex_row_template = \"\"\"\n",
    "\\\\thead{FUNC_NAME}\n",
    "    &   \\\\thead{VAL_TTP}\n",
    "        &   \\\\thead{VAL_GE}\n",
    "            &   \\\\thead{VAL_DE}\n",
    "                &   \\\\thead{VAL_DA}\n",
    "                    &   \\\\thead{VAL_ABC}\n",
    "                        &   \\\\thead{VAL_PSO}\\\\\\\\\"\"\"\n",
    "\n",
    "def make_latex_table_for_value(\n",
    "        algo_names: List[Tuple[str, str]],\n",
    "        column_name: str,\n",
    "        test_names: List[str] = test_names,\n",
    "        number_format: str = \".2e\"\n",
    "):\n",
    "    latex_table_rows = \"\"\n",
    "    val_for_each_algo_map = {}\n",
    "\n",
    "    column_name_mean = f\"{column_name} mean\"\n",
    "    column_name_iter = f\"iter to vtr mean\"\n",
    "    column_name_std = f\"{column_name} std\"\n",
    "\n",
    "    for algo_name, algo_label in algo_names:\n",
    "        values_df = make_values_table(algo_name, test_names)\n",
    "        val_for_each_algo_map[algo_label] = values_df\n",
    "\n",
    "\n",
    "    for test_name in test_names:\n",
    "        latex_row = latex_row_template.replace(\"FUNC_NAME\", test_name.replace(\"_\", \" \"))\n",
    "        test_name_norm = test_name.replace(\"_\", \" \")\n",
    "        min_val_algo = None\n",
    "        min_val = np.inf\n",
    "\n",
    "        terminated_before_vtr_map = {}\n",
    "\n",
    "        for algo_label in val_for_each_algo_map.keys():\n",
    "            mean_val = val_for_each_algo_map[algo_label].loc[test_name_norm][column_name_mean]\n",
    "            if val_for_each_algo_map[algo_label].loc[test_name_norm][column_name_iter] == 1000:\n",
    "                terminated_before_vtr_map[algo_label] = mean_val\n",
    "            elif mean_val < min_val and val_for_each_algo_map[algo_label].loc[test_name_norm][column_name_iter] < 1000:\n",
    "                min_val = mean_val\n",
    "                min_val_algo = algo_label\n",
    "\n",
    "        for algo_label in val_for_each_algo_map.keys():\n",
    "            # use scientific notation for values\n",
    "            mean_val = f\"{val_for_each_algo_map[algo_label].loc[test_name_norm][column_name_mean]:{number_format}}\"\n",
    "            std_val = f\"{val_for_each_algo_map[algo_label].loc[test_name_norm][column_name_std]:{number_format}}\"\n",
    "\n",
    "            if algo_label in terminated_before_vtr_map.keys():\n",
    "                cell = \"\\\\makecell{\" + f\"{mean_val} \\\\\\\\ ({std_val})*\" + \"}\"\n",
    "            elif algo_label == min_val_algo:\n",
    "                cell = \"\\\\textbf{\\\\makecell{\" + f\"{mean_val} \\\\\\\\ ({std_val})\" + \"}}\"\n",
    "            else:\n",
    "                cell = \"\\\\makecell{\" + f\"{mean_val} \\\\\\\\ ({std_val})\" + \"}\"\n",
    "            latex_row = latex_row.replace(f\"VAL_{algo_label}\", cell)\n",
    "        latex_table_rows += latex_row\n",
    "    print(latex_table_rows)\n",
    "    return latex_table_rows"
   ],
   "metadata": {
    "collapsed": false,
    "ExecuteTime": {
     "end_time": "2023-11-29T02:31:22.565890Z",
     "start_time": "2023-11-29T02:31:22.562141Z"
    }
   }
  },
  {
   "cell_type": "code",
   "execution_count": 17,
   "outputs": [],
   "source": [
    "algo_names = [\n",
    "    (\"ttp_de_sa_2\", \"TTP\"),\n",
    "    (\"ge\", \"GE\"),\n",
    "    (\"de\", \"DE\"),\n",
    "    (\"da\", \"DA\"),\n",
    "    (\"abc\", \"ABC\"),\n",
    "    (\"pso\", \"PSO\")\n",
    "]"
   ],
   "metadata": {
    "collapsed": false,
    "ExecuteTime": {
     "end_time": "2023-11-29T02:31:23.225478Z",
     "start_time": "2023-11-29T02:31:23.223175Z"
    }
   }
  },
  {
   "cell_type": "code",
   "execution_count": 18,
   "outputs": [
    {
     "name": "stdout",
     "output_type": "stream",
     "text": [
      "\n",
      "\\thead{sphere}\n",
      "    &   \\thead{\\textbf{\\makecell{1.87e-62 \\\\ (5.43e-62)}}}\n",
      "        &   \\thead{\\makecell{2.03e-17 \\\\ (8.06e-18)}}\n",
      "            &   \\thead{\\makecell{5.69e-20 \\\\ (8.04e-20)}}\n",
      "                &   \\thead{\\makecell{4.65e-13 \\\\ (6.56e-13)}}\n",
      "                    &   \\thead{\\makecell{3.14e-11 \\\\ (4.13e-11)}}\n",
      "                        &   \\thead{\\makecell{1.95e-05 \\\\ (1.03e-04)}}\\\\\n",
      "\\thead{weighted sphere}\n",
      "    &   \\thead{\\textbf{\\makecell{1.58e-59 \\\\ (4.12e-59)}}}\n",
      "        &   \\thead{\\makecell{1.03e+01 \\\\ (4.21e+00)*}}\n",
      "            &   \\thead{\\makecell{5.51e-19 \\\\ (5.80e-19)}}\n",
      "                &   \\thead{\\makecell{1.86e-09 \\\\ (2.39e-09)}}\n",
      "                    &   \\thead{\\makecell{3.27e-10 \\\\ (2.96e-10)}}\n",
      "                        &   \\thead{\\makecell{3.24e+00 \\\\ (1.70e+01)*}}\\\\\n",
      "\\thead{schwefel 1 2}\n",
      "    &   \\thead{\\textbf{\\makecell{4.84e-17 \\\\ (1.74e-16)}}}\n",
      "        &   \\thead{\\makecell{7.93e+02 \\\\ (3.76e+02)*}}\n",
      "            &   \\thead{\\makecell{3.11e+03 \\\\ (7.94e+02)*}}\n",
      "                &   \\thead{\\makecell{2.02e-08 \\\\ (1.35e-08)}}\n",
      "                    &   \\thead{\\makecell{3.23e+05 \\\\ (6.35e+04)*}}\n",
      "                        &   \\thead{\\makecell{8.00e+03 \\\\ (4.57e+03)*}}\\\\\n",
      "\\thead{schwefel 2 3}\n",
      "    &   \\thead{\\textbf{\\makecell{3.82e-04 \\\\ (9.77e-12)}}}\n",
      "        &   \\thead{\\makecell{1.07e+04 \\\\ (3.57e+01)*}}\n",
      "            &   \\thead{\\makecell{4.51e+05 \\\\ (6.00e+04)*}}\n",
      "                &   \\thead{\\makecell{3.82e-04 \\\\ (1.60e-07)}}\n",
      "                    &   \\thead{\\makecell{3.37e+02 \\\\ (1.57e+02)*}}\n",
      "                        &   \\thead{\\makecell{3.53e+03 \\\\ (5.01e+02)*}}\\\\\n",
      "\\thead{rotated hyper ellipsoid}\n",
      "    &   \\thead{\\textbf{\\makecell{6.46e-58 \\\\ (1.92e-57)}}}\n",
      "        &   \\thead{\\makecell{2.60e-17 \\\\ (1.34e-17)}}\n",
      "            &   \\thead{\\makecell{1.51e-19 \\\\ (1.03e-19)}}\n",
      "                &   \\thead{\\makecell{1.29e-09 \\\\ (1.06e-09)}}\n",
      "                    &   \\thead{\\makecell{1.86e-10 \\\\ (1.72e-10)}}\n",
      "                        &   \\thead{\\makecell{1.60e-02 \\\\ (8.61e-02)}}\\\\\n",
      "\\thead{rosenbrock}\n",
      "    &   \\thead{\\textbf{\\makecell{6.34e-15 \\\\ (1.42e-14)}}}\n",
      "        &   \\thead{\\makecell{2.85e+01 \\\\ (1.46e-01)*}}\n",
      "            &   \\thead{\\makecell{2.46e+01 \\\\ (1.91e+00)*}}\n",
      "                &   \\thead{\\makecell{1.33e-01 \\\\ (7.16e-01)}}\n",
      "                    &   \\thead{\\makecell{1.79e+01 \\\\ (6.20e+00)*}}\n",
      "                        &   \\thead{\\makecell{3.20e+01 \\\\ (1.77e+01)*}}\\\\\n",
      "\\thead{pow sum}\n",
      "    &   \\thead{\\textbf{\\makecell{1.05e-76 \\\\ (2.67e-76)}}}\n",
      "        &   \\thead{\\makecell{2.39e-17 \\\\ (3.72e-17)}}\n",
      "            &   \\thead{\\makecell{5.89e-26 \\\\ (2.71e-25)}}\n",
      "                &   \\thead{\\makecell{3.84e-06 \\\\ (3.76e-06)}}\n",
      "                    &   \\thead{\\makecell{4.01e-11 \\\\ (7.16e-11)}}\n",
      "                        &   \\thead{\\makecell{5.27e-11 \\\\ (2.61e-10)}}\\\\\n",
      "\\thead{easom}\n",
      "    &   \\thead{\\textbf{\\makecell{0.00e+00 \\\\ (0.00e+00)}}}\n",
      "        &   \\thead{\\makecell{2.13e-05 \\\\ (2.53e-05)*}}\n",
      "            &   \\thead{\\makecell{0.00e+00 \\\\ (0.00e+00)}}\n",
      "                &   \\thead{\\makecell{5.00e-01 \\\\ (5.00e-01)}}\n",
      "                    &   \\thead{\\makecell{1.14e-02 \\\\ (2.34e-02)*}}\n",
      "                        &   \\thead{\\makecell{0.00e+00 \\\\ (0.00e+00)}}\\\\\n",
      "\\thead{ackley}\n",
      "    &   \\thead{\\textbf{\\makecell{1.50e-14 \\\\ (1.41e-15)}}}\n",
      "        &   \\thead{\\makecell{3.09e-11 \\\\ (1.07e-10)}}\n",
      "            &   \\thead{\\makecell{6.10e-11 \\\\ (2.33e-11)}}\n",
      "                &   \\thead{\\makecell{1.96e-08 \\\\ (4.09e-10)}}\n",
      "                    &   \\thead{\\makecell{1.57e-05 \\\\ (9.05e-06)*}}\n",
      "                        &   \\thead{\\makecell{1.60e-01 \\\\ (3.53e-01)*}}\\\\\n",
      "\\thead{rastrigin}\n",
      "    &   \\thead{\\textbf{\\makecell{7.20e-14 \\\\ (2.51e-14)}}}\n",
      "        &   \\thead{\\makecell{1.14e-11 \\\\ (3.75e-11)}}\n",
      "            &   \\thead{\\makecell{4.34e-06 \\\\ (2.58e-06)*}}\n",
      "                &   \\thead{\\makecell{1.33e-01 \\\\ (3.38e-01)}}\n",
      "                    &   \\thead{\\makecell{6.71e-01 \\\\ (8.62e-01)*}}\n",
      "                        &   \\thead{\\makecell{5.91e+01 \\\\ (3.85e+01)*}}\\\\\n",
      "\\thead{griewangk}\n",
      "    &   \\thead{\\makecell{3.33e-17 \\\\ (9.13e-17)}}\n",
      "        &   \\thead{\\textbf{\\makecell{0.00e+00 \\\\ (0.00e+00)}}}\n",
      "            &   \\thead{\\makecell{2.71e-03 \\\\ (5.48e-03)}}\n",
      "                &   \\thead{\\makecell{3.29e-04 \\\\ (1.77e-03)}}\n",
      "                    &   \\thead{\\makecell{4.17e-04 \\\\ (2.24e-03)}}\n",
      "                        &   \\thead{\\makecell{6.18e-02 \\\\ (1.98e-01)}}\\\\\n",
      "\\thead{dejong 5}\n",
      "    &   \\thead{\\textbf{\\makecell{9.98e-01 \\\\ (1.52e-16)}}}\n",
      "        &   \\thead{\\makecell{9.98e-01 \\\\ (1.18e-08)}}\n",
      "            &   \\thead{\\makecell{1.03e+00 \\\\ (1.78e-01)}}\n",
      "                &   \\thead{\\makecell{9.98e-01 \\\\ (1.56e-10)}}\n",
      "                    &   \\thead{\\makecell{9.98e-01 \\\\ (1.40e-15)}}\n",
      "                        &   \\thead{\\makecell{9.98e-01 \\\\ (1.28e-16)}}\\\\\n",
      "\\thead{dejong 3}\n",
      "    &   \\thead{\\textbf{\\makecell{0.00e+00 \\\\ (0.00e+00)}}}\n",
      "        &   \\thead{\\makecell{0.00e+00 \\\\ (0.00e+00)}}\n",
      "            &   \\thead{\\makecell{0.00e+00 \\\\ (0.00e+00)}}\n",
      "                &   \\thead{\\makecell{0.00e+00 \\\\ (0.00e+00)}}\n",
      "                    &   \\thead{\\makecell{0.00e+00 \\\\ (0.00e+00)}}\n",
      "                        &   \\thead{\\makecell{0.00e+00 \\\\ (0.00e+00)}}\\\\\n"
     ]
    }
   ],
   "source": [
    "text = make_latex_table_for_value(algo_names, \"last val\")"
   ],
   "metadata": {
    "collapsed": false,
    "ExecuteTime": {
     "end_time": "2023-11-29T02:31:23.712687Z",
     "start_time": "2023-11-29T02:31:23.636014Z"
    }
   }
  },
  {
   "cell_type": "code",
   "execution_count": 19,
   "outputs": [
    {
     "name": "stdout",
     "output_type": "stream",
     "text": [
      "\n",
      "\\thead{sphere}\n",
      "    &   \\thead{\\makecell{3.300 \\\\ (2.397)}}\n",
      "        &   \\thead{\\makecell{182.333 \\\\ (9.217)}}\n",
      "            &   \\thead{\\makecell{487.967 \\\\ (10.959)}}\n",
      "                &   \\thead{\\textbf{\\makecell{1.000 \\\\ (0.000)}}}\n",
      "                    &   \\thead{\\makecell{713.033 \\\\ (45.066)}}\n",
      "                        &   \\thead{\\makecell{983.433 \\\\ (23.410)}}\\\\\n",
      "\\thead{weighted sphere}\n",
      "    &   \\thead{\\makecell{48.733 \\\\ (5.876)}}\n",
      "        &   \\thead{\\makecell{1000.000 \\\\ (0.000)*}}\n",
      "            &   \\thead{\\makecell{532.500 \\\\ (11.555)}}\n",
      "                &   \\thead{\\textbf{\\makecell{1.000 \\\\ (0.000)}}}\n",
      "                    &   \\thead{\\makecell{794.700 \\\\ (33.971)}}\n",
      "                        &   \\thead{\\makecell{1000.000 \\\\ (0.000)*}}\\\\\n",
      "\\thead{schwefel 1 2}\n",
      "    &   \\thead{\\makecell{60.933 \\\\ (11.048)}}\n",
      "        &   \\thead{\\makecell{1000.000 \\\\ (0.000)*}}\n",
      "            &   \\thead{\\makecell{1000.000 \\\\ (0.000)*}}\n",
      "                &   \\thead{\\textbf{\\makecell{1.000 \\\\ (0.000)}}}\n",
      "                    &   \\thead{\\makecell{1000.000 \\\\ (0.000)*}}\n",
      "                        &   \\thead{\\makecell{1000.000 \\\\ (0.000)*}}\\\\\n",
      "\\thead{schwefel 2 3}\n",
      "    &   \\thead{\\makecell{191.833 \\\\ (11.685)}}\n",
      "        &   \\thead{\\makecell{1000.000 \\\\ (0.000)*}}\n",
      "            &   \\thead{\\makecell{1000.000 \\\\ (0.000)*}}\n",
      "                &   \\thead{\\textbf{\\makecell{49.867 \\\\ (15.233)}}}\n",
      "                    &   \\thead{\\makecell{1000.000 \\\\ (0.000)*}}\n",
      "                        &   \\thead{\\makecell{1000.000 \\\\ (0.000)*}}\\\\\n",
      "\\thead{rotated hyper ellipsoid}\n",
      "    &   \\thead{\\makecell{41.333 \\\\ (4.671)}}\n",
      "        &   \\thead{\\makecell{200.233 \\\\ (8.747)}}\n",
      "            &   \\thead{\\makecell{515.733 \\\\ (7.066)}}\n",
      "                &   \\thead{\\textbf{\\makecell{1.000 \\\\ (0.000)}}}\n",
      "                    &   \\thead{\\makecell{772.300 \\\\ (42.848)}}\n",
      "                        &   \\thead{\\makecell{999.333 \\\\ (3.590)}}\\\\\n",
      "\\thead{rosenbrock}\n",
      "    &   \\thead{\\makecell{318.000 \\\\ (44.184)}}\n",
      "        &   \\thead{\\makecell{1000.000 \\\\ (0.000)*}}\n",
      "            &   \\thead{\\makecell{1000.000 \\\\ (0.000)*}}\n",
      "                &   \\thead{\\textbf{\\makecell{89.667 \\\\ (211.934)}}}\n",
      "                    &   \\thead{\\makecell{1000.000 \\\\ (0.000)*}}\n",
      "                        &   \\thead{\\makecell{1000.000 \\\\ (0.000)*}}\\\\\n",
      "\\thead{pow sum}\n",
      "    &   \\thead{\\textbf{\\makecell{52.667 \\\\ (6.257)}}}\n",
      "        &   \\thead{\\makecell{102.667 \\\\ (6.615)}}\n",
      "            &   \\thead{\\makecell{505.367 \\\\ (72.522)}}\n",
      "                &   \\thead{\\makecell{933.400 \\\\ (249.194)}}\n",
      "                    &   \\thead{\\makecell{542.233 \\\\ (65.698)}}\n",
      "                        &   \\thead{\\makecell{97.733 \\\\ (14.635)}}\\\\\n",
      "\\thead{easom}\n",
      "    &   \\thead{\\makecell{147.867 \\\\ (161.026)}}\n",
      "        &   \\thead{\\makecell{1000.000 \\\\ (0.000)*}}\n",
      "            &   \\thead{\\makecell{204.867 \\\\ (50.534)}}\n",
      "                &   \\thead{\\makecell{729.167 \\\\ (335.251)}}\n",
      "                    &   \\thead{\\makecell{1000.000 \\\\ (0.000)*}}\n",
      "                        &   \\thead{\\textbf{\\makecell{86.033 \\\\ (15.394)}}}\\\\\n",
      "\\thead{ackley}\n",
      "    &   \\thead{\\makecell{237.067 \\\\ (21.437)}}\n",
      "        &   \\thead{\\makecell{318.033 \\\\ (20.106)}}\n",
      "            &   \\thead{\\makecell{732.300 \\\\ (12.413)}}\n",
      "                &   \\thead{\\textbf{\\makecell{222.467 \\\\ (22.007)}}}\n",
      "                    &   \\thead{\\makecell{1000.000 \\\\ (0.000)*}}\n",
      "                        &   \\thead{\\makecell{1000.000 \\\\ (0.000)*}}\\\\\n",
      "\\thead{rastrigin}\n",
      "    &   \\thead{\\makecell{506.433 \\\\ (22.212)}}\n",
      "        &   \\thead{\\textbf{\\makecell{296.867 \\\\ (37.728)}}}\n",
      "            &   \\thead{\\makecell{1000.000 \\\\ (0.000)*}}\n",
      "                &   \\thead{\\makecell{688.933 \\\\ (175.510)}}\n",
      "                    &   \\thead{\\makecell{1000.000 \\\\ (0.000)*}}\n",
      "                        &   \\thead{\\makecell{1000.000 \\\\ (0.000)*}}\\\\\n",
      "\\thead{griewangk}\n",
      "    &   \\thead{\\textbf{\\makecell{16.600 \\\\ (6.606)}}}\n",
      "        &   \\thead{\\makecell{190.300 \\\\ (12.144)}}\n",
      "            &   \\thead{\\makecell{652.667 \\\\ (194.875)}}\n",
      "                &   \\thead{\\makecell{50.600 \\\\ (196.919)}}\n",
      "                    &   \\thead{\\makecell{952.867 \\\\ (59.658)}}\n",
      "                        &   \\thead{\\makecell{994.833 \\\\ (19.081)}}\\\\\n",
      "\\thead{dejong 5}\n",
      "    &   \\thead{\\textbf{\\makecell{15.700 \\\\ (2.968)}}}\n",
      "        &   \\thead{\\makecell{195.033 \\\\ (138.168)}}\n",
      "            &   \\thead{\\makecell{44.933 \\\\ (177.375)}}\n",
      "                &   \\thead{\\makecell{67.733 \\\\ (55.180)}}\n",
      "                    &   \\thead{\\makecell{29.367 \\\\ (12.955)}}\n",
      "                        &   \\thead{\\makecell{54.200 \\\\ (43.903)}}\\\\\n",
      "\\thead{dejong 3}\n",
      "    &   \\thead{\\makecell{58.800 \\\\ (3.945)}}\n",
      "        &   \\thead{\\textbf{\\makecell{27.067 \\\\ (8.989)}}}\n",
      "            &   \\thead{\\makecell{225.000 \\\\ (13.066)}}\n",
      "                &   \\thead{\\makecell{62.767 \\\\ (15.372)}}\n",
      "                    &   \\thead{\\makecell{269.367 \\\\ (57.097)}}\n",
      "                        &   \\thead{\\makecell{153.633 \\\\ (190.385)}}\\\\\n"
     ]
    }
   ],
   "source": [
    "text = make_latex_table_for_value(algo_names, \"iter to vtr\", number_format=\".3f\")"
   ],
   "metadata": {
    "collapsed": false,
    "ExecuteTime": {
     "end_time": "2023-11-29T02:31:25.607726Z",
     "start_time": "2023-11-29T02:31:25.522888Z"
    }
   }
  },
  {
   "cell_type": "code",
   "execution_count": 20,
   "outputs": [
    {
     "name": "stdout",
     "output_type": "stream",
     "text": [
      "\n",
      "\\thead{sphere}\n",
      "    &   \\thead{\\makecell{525.400 \\\\ (229.006)}}\n",
      "        &   \\thead{\\makecell{7373.667 \\\\ (368.829)}}\n",
      "            &   \\thead{\\makecell{19598.667 \\\\ (438.359)}}\n",
      "                &   \\thead{\\textbf{\\makecell{185.000 \\\\ (0.000)}}}\n",
      "                    &   \\thead{\\makecell{28541.333 \\\\ (1802.649)}}\n",
      "                        &   \\thead{\\makecell{39337.333 \\\\ (936.415)}}\\\\\n",
      "\\thead{weighted sphere}\n",
      "    &   \\thead{\\makecell{11915.533 \\\\ (1813.344)}}\n",
      "        &   \\thead{\\makecell{40246.433 \\\\ (11.427)*}}\n",
      "            &   \\thead{\\makecell{21380.000 \\\\ (462.198)}}\n",
      "                &   \\thead{\\textbf{\\makecell{1206.967 \\\\ (71.360)}}}\n",
      "                    &   \\thead{\\makecell{31808.000 \\\\ (1358.829)}}\n",
      "                        &   \\thead{\\makecell{40000.000 \\\\ (0.000)*}}\\\\\n",
      "\\thead{schwefel 1 2}\n",
      "    &   \\thead{\\makecell{14297.633 \\\\ (2055.951)}}\n",
      "        &   \\thead{\\makecell{40378.267 \\\\ (11.051)*}}\n",
      "            &   \\thead{\\makecell{40040.000 \\\\ (0.000)*}}\n",
      "                &   \\thead{\\textbf{\\makecell{4456.800 \\\\ (492.396)}}}\n",
      "                    &   \\thead{\\makecell{40020.000 \\\\ (0.000)*}}\n",
      "                        &   \\thead{\\makecell{40000.000 \\\\ (0.000)*}}\\\\\n",
      "\\thead{schwefel 2 3}\n",
      "    &   \\thead{\\makecell{109502.633 \\\\ (7923.498)}}\n",
      "        &   \\thead{\\makecell{40365.867 \\\\ (26.248)*}}\n",
      "            &   \\thead{\\makecell{40040.000 \\\\ (0.000)*}}\n",
      "                &   \\thead{\\textbf{\\makecell{6869.033 \\\\ (1058.233)}}}\n",
      "                    &   \\thead{\\makecell{40020.000 \\\\ (0.000)*}}\n",
      "                        &   \\thead{\\makecell{40000.000 \\\\ (0.000)*}}\\\\\n",
      "\\thead{rotated hyper ellipsoid}\n",
      "    &   \\thead{\\makecell{10316.500 \\\\ (1873.697)}}\n",
      "        &   \\thead{\\makecell{8089.900 \\\\ (349.943)}}\n",
      "            &   \\thead{\\makecell{20709.333 \\\\ (282.642)}}\n",
      "                &   \\thead{\\textbf{\\makecell{1177.000 \\\\ (72.921)}}}\n",
      "                    &   \\thead{\\makecell{30912.000 \\\\ (1713.916)}}\n",
      "                        &   \\thead{\\makecell{39973.333 \\\\ (143.604)}}\\\\\n",
      "\\thead{rosenbrock}\n",
      "    &   \\thead{\\makecell{77172.833 \\\\ (12335.363)}}\n",
      "        &   \\thead{\\makecell{40948.900 \\\\ (12.828)*}}\n",
      "            &   \\thead{\\makecell{40040.000 \\\\ (0.000)*}}\n",
      "                &   \\thead{\\textbf{\\makecell{11654.367 \\\\ (12893.346)}}}\n",
      "                    &   \\thead{\\makecell{40020.000 \\\\ (0.000)*}}\n",
      "                        &   \\thead{\\makecell{40000.000 \\\\ (0.000)*}}\\\\\n",
      "\\thead{pow sum}\n",
      "    &   \\thead{\\makecell{5128.367 \\\\ (2162.492)}}\n",
      "        &   \\thead{\\makecell{4187.000 \\\\ (264.917)}}\n",
      "            &   \\thead{\\makecell{20294.667 \\\\ (2900.896)}}\n",
      "                &   \\thead{\\makecell{60254.067 \\\\ (14964.637)}}\n",
      "                    &   \\thead{\\makecell{21709.333 \\\\ (2627.926)}}\n",
      "                        &   \\thead{\\textbf{\\makecell{3909.333 \\\\ (585.417)}}}\\\\\n",
      "\\thead{easom}\n",
      "    &   \\thead{\\makecell{5954.667 \\\\ (6441.058)}}\n",
      "        &   \\thead{\\makecell{40589.333 \\\\ (26.642)*}}\n",
      "            &   \\thead{\\makecell{8274.667 \\\\ (2021.372)}}\n",
      "                &   \\thead{\\textbf{\\makecell{2945.467 \\\\ (1331.302)}}}\n",
      "                    &   \\thead{\\makecell{41010.233 \\\\ (0.616)*}}\n",
      "                        &   \\thead{\\makecell{3441.333 \\\\ (615.747)}}\\\\\n",
      "\\thead{ackley}\n",
      "    &   \\thead{\\makecell{35099.400 \\\\ (3493.922)}}\n",
      "        &   \\thead{\\textbf{\\makecell{12805.767 \\\\ (805.361)}}}\n",
      "            &   \\thead{\\makecell{29372.000 \\\\ (496.510)}}\n",
      "                &   \\thead{\\makecell{27106.800 \\\\ (1800.587)}}\n",
      "                    &   \\thead{\\makecell{40020.000 \\\\ (0.000)*}}\n",
      "                        &   \\thead{\\makecell{40000.000 \\\\ (0.000)*}}\\\\\n",
      "\\thead{rastrigin}\n",
      "    &   \\thead{\\makecell{135240.333 \\\\ (10776.965)}}\n",
      "        &   \\thead{\\textbf{\\makecell{2990.500 \\\\ (378.056)}}}\n",
      "            &   \\thead{\\makecell{40040.000 \\\\ (0.000)*}}\n",
      "                &   \\thead{\\makecell{58992.533 \\\\ (10757.227)}}\n",
      "                    &   \\thead{\\makecell{40020.000 \\\\ (0.000)*}}\n",
      "                        &   \\thead{\\makecell{40000.000 \\\\ (0.000)*}}\\\\\n",
      "\\thead{griewangk}\n",
      "    &   \\thead{\\makecell{4576.933 \\\\ (1782.871)}}\n",
      "        &   \\thead{\\makecell{7692.333 \\\\ (485.971)}}\n",
      "            &   \\thead{\\makecell{26177.333 \\\\ (7778.375)}}\n",
      "                &   \\thead{\\textbf{\\makecell{3948.400 \\\\ (12085.961)}}}\n",
      "                    &   \\thead{\\makecell{38134.667 \\\\ (2386.333)}}\n",
      "                        &   \\thead{\\makecell{39793.333 \\\\ (763.227)}}\\\\\n",
      "\\thead{dejong 5}\n",
      "    &   \\thead{\\makecell{668.000 \\\\ (118.727)}}\n",
      "        &   \\thead{\\makecell{7954.867 \\\\ (5590.001)}}\n",
      "            &   \\thead{\\makecell{1876.000 \\\\ (7087.802)}}\n",
      "                &   \\thead{\\textbf{\\makecell{423.833 \\\\ (237.003)}}}\n",
      "                    &   \\thead{\\makecell{1200.600 \\\\ (522.038)}}\n",
      "                        &   \\thead{\\makecell{2168.000 \\\\ (1756.129)}}\\\\\n",
      "\\thead{dejong 3}\n",
      "    &   \\thead{\\makecell{2392.000 \\\\ (157.785)}}\n",
      "        &   \\thead{\\textbf{\\makecell{1162.667 \\\\ (359.545)}}}\n",
      "            &   \\thead{\\makecell{9080.000 \\\\ (522.660)}}\n",
      "                &   \\thead{\\makecell{4539.933 \\\\ (941.725)}}\n",
      "                    &   \\thead{\\makecell{10795.067 \\\\ (2284.431)}}\n",
      "                        &   \\thead{\\makecell{6145.333 \\\\ (7615.384)}}\\\\\n"
     ]
    }
   ],
   "source": [
    "text = make_latex_table_for_value(algo_names, \"nfev\", number_format=\".3f\")"
   ],
   "metadata": {
    "collapsed": false,
    "ExecuteTime": {
     "end_time": "2023-11-29T02:31:25.916607Z",
     "start_time": "2023-11-29T02:31:25.838347Z"
    }
   }
  },
  {
   "cell_type": "code",
   "execution_count": 21,
   "outputs": [
    {
     "name": "stdout",
     "output_type": "stream",
     "text": [
      "\n",
      "\\thead{sphere}\n",
      "    &   \\thead{\\makecell{0.010 \\\\ (0.004)}}\n",
      "        &   \\thead{\\makecell{0.323 \\\\ (0.026)}}\n",
      "            &   \\thead{\\makecell{0.486 \\\\ (0.025)}}\n",
      "                &   \\thead{\\textbf{\\makecell{0.004 \\\\ (0.000)}}}\n",
      "                    &   \\thead{\\makecell{0.623 \\\\ (0.041)}}\n",
      "                        &   \\thead{\\makecell{2.013 \\\\ (0.062)}}\\\\\n",
      "\\thead{weighted sphere}\n",
      "    &   \\thead{\\makecell{0.136 \\\\ (0.017)}}\n",
      "        &   \\thead{\\makecell{1.644 \\\\ (0.034)*}}\n",
      "            &   \\thead{\\makecell{0.391 \\\\ (0.009)}}\n",
      "                &   \\thead{\\textbf{\\makecell{0.012 \\\\ (0.001)}}}\n",
      "                    &   \\thead{\\makecell{0.389 \\\\ (0.020)}}\n",
      "                        &   \\thead{\\makecell{1.807 \\\\ (0.018)*}}\\\\\n",
      "\\thead{schwefel 1 2}\n",
      "    &   \\thead{\\textbf{\\makecell{0.770 \\\\ (0.110)}}}\n",
      "        &   \\thead{\\makecell{13.678 \\\\ (0.159)*}}\n",
      "            &   \\thead{\\makecell{11.750 \\\\ (0.050)*}}\n",
      "                &   \\thead{\\makecell{1.277 \\\\ (0.139)}}\n",
      "                    &   \\thead{\\makecell{12.470 \\\\ (0.084)*}}\n",
      "                        &   \\thead{\\makecell{12.668 \\\\ (0.144)*}}\\\\\n",
      "\\thead{schwefel 2 3}\n",
      "    &   \\thead{\\makecell{1.956 \\\\ (0.138)}}\n",
      "        &   \\thead{\\makecell{1.812 \\\\ (0.058)*}}\n",
      "            &   \\thead{\\makecell{11.694 \\\\ (0.045)*}}\n",
      "                &   \\thead{\\textbf{\\makecell{0.150 \\\\ (0.027)}}}\n",
      "                    &   \\thead{\\makecell{0.880 \\\\ (0.014)*}}\n",
      "                        &   \\thead{\\makecell{2.302 \\\\ (0.169)*}}\\\\\n",
      "\\thead{rotated hyper ellipsoid}\n",
      "    &   \\thead{\\makecell{3.071 \\\\ (0.561)}}\n",
      "        &   \\thead{\\makecell{2.689 \\\\ (0.198)}}\n",
      "            &   \\thead{\\makecell{6.075 \\\\ (0.111)}}\n",
      "                &   \\thead{\\textbf{\\makecell{0.352 \\\\ (0.023)}}}\n",
      "                    &   \\thead{\\makecell{9.958 \\\\ (0.532)}}\n",
      "                        &   \\thead{\\makecell{13.239 \\\\ (0.230)}}\\\\\n",
      "\\thead{rosenbrock}\n",
      "    &   \\thead{\\makecell{1.430 \\\\ (0.222)}}\n",
      "        &   \\thead{\\makecell{1.922 \\\\ (0.042)*}}\n",
      "            &   \\thead{\\makecell{1.041 \\\\ (0.015)*}}\n",
      "                &   \\thead{\\textbf{\\makecell{0.236 \\\\ (0.321)}}}\n",
      "                    &   \\thead{\\makecell{0.628 \\\\ (0.013)*}}\n",
      "                        &   \\thead{\\makecell{2.086 \\\\ (0.027)*}}\\\\\n",
      "\\thead{pow sum}\n",
      "    &   \\thead{\\textbf{\\makecell{0.118 \\\\ (0.040)}}}\n",
      "        &   \\thead{\\makecell{0.193 \\\\ (0.017)}}\n",
      "            &   \\thead{\\makecell{0.559 \\\\ (0.081)}}\n",
      "                &   \\thead{\\makecell{1.637 \\\\ (0.417)}}\n",
      "                    &   \\thead{\\makecell{0.478 \\\\ (0.059)}}\n",
      "                        &   \\thead{\\makecell{0.213 \\\\ (0.034)}}\\\\\n",
      "\\thead{easom}\n",
      "    &   \\thead{\\makecell{0.080 \\\\ (0.088)}}\n",
      "        &   \\thead{\\makecell{0.964 \\\\ (0.026)*}}\n",
      "            &   \\thead{\\makecell{0.099 \\\\ (0.029)}}\n",
      "                &   \\thead{\\textbf{\\makecell{0.055 \\\\ (0.025)}}}\n",
      "                    &   \\thead{\\makecell{0.389 \\\\ (0.006)*}}\n",
      "                        &   \\thead{\\makecell{0.141 \\\\ (0.026)}}\\\\\n",
      "\\thead{ackley}\n",
      "    &   \\thead{\\makecell{1.115 \\\\ (0.107)}}\n",
      "        &   \\thead{\\textbf{\\makecell{0.725 \\\\ (0.056)}}}\n",
      "            &   \\thead{\\makecell{1.116 \\\\ (0.027)}}\n",
      "                &   \\thead{\\makecell{0.892 \\\\ (0.060)}}\n",
      "                    &   \\thead{\\makecell{1.422 \\\\ (0.023)*}}\n",
      "                        &   \\thead{\\makecell{2.562 \\\\ (0.023)*}}\\\\\n",
      "\\thead{rastrigin}\n",
      "    &   \\thead{\\makecell{2.642 \\\\ (0.212)}}\n",
      "        &   \\thead{\\textbf{\\makecell{0.129 \\\\ (0.018)}}}\n",
      "            &   \\thead{\\makecell{1.232 \\\\ (0.018)*}}\n",
      "                &   \\thead{\\makecell{1.449 \\\\ (0.288)}}\n",
      "                    &   \\thead{\\makecell{0.969 \\\\ (0.019)*}}\n",
      "                        &   \\thead{\\makecell{2.142 \\\\ (0.018)*}}\\\\\n",
      "\\thead{griewangk}\n",
      "    &   \\thead{\\makecell{0.212 \\\\ (0.083)}}\n",
      "        &   \\thead{\\makecell{0.547 \\\\ (0.040)}}\n",
      "            &   \\thead{\\makecell{1.415 \\\\ (0.422)}}\n",
      "                &   \\thead{\\textbf{\\makecell{0.200 \\\\ (0.636)}}}\n",
      "                    &   \\thead{\\makecell{1.892 \\\\ (0.114)}}\n",
      "                        &   \\thead{\\makecell{3.127 \\\\ (0.070)}}\\\\\n",
      "\\thead{dejong 5}\n",
      "    &   \\thead{\\makecell{0.015 \\\\ (0.003)}}\n",
      "        &   \\thead{\\makecell{0.325 \\\\ (0.240)}}\n",
      "            &   \\thead{\\makecell{0.045 \\\\ (0.181)}}\n",
      "                &   \\thead{\\textbf{\\makecell{0.012 \\\\ (0.006)}}}\n",
      "                    &   \\thead{\\makecell{0.020 \\\\ (0.009)}}\n",
      "                        &   \\thead{\\makecell{0.113 \\\\ (0.093)}}\\\\\n",
      "\\thead{dejong 3}\n",
      "    &   \\thead{\\makecell{0.054 \\\\ (0.003)}}\n",
      "        &   \\thead{\\textbf{\\makecell{0.047 \\\\ (0.017)}}}\n",
      "            &   \\thead{\\makecell{0.189 \\\\ (0.013)}}\n",
      "                &   \\thead{\\makecell{0.105 \\\\ (0.023)}}\n",
      "                    &   \\thead{\\makecell{0.144 \\\\ (0.031)}}\n",
      "                        &   \\thead{\\makecell{0.392 \\\\ (0.472)}}\\\\\n"
     ]
    }
   ],
   "source": [
    "text = make_latex_table_for_value(algo_names, \"time\", number_format=\".3f\")"
   ],
   "metadata": {
    "collapsed": false,
    "ExecuteTime": {
     "end_time": "2023-11-29T02:31:26.497570Z",
     "start_time": "2023-11-29T02:31:26.423956Z"
    }
   }
  },
  {
   "cell_type": "code",
   "execution_count": 26,
   "outputs": [],
   "source": [],
   "metadata": {
    "collapsed": false,
    "ExecuteTime": {
     "end_time": "2023-11-24T16:41:39.775035Z",
     "start_time": "2023-11-24T16:41:39.773871Z"
    }
   }
  },
  {
   "cell_type": "code",
   "execution_count": 26,
   "outputs": [],
   "source": [],
   "metadata": {
    "collapsed": false,
    "ExecuteTime": {
     "end_time": "2023-11-24T16:41:39.940191Z",
     "start_time": "2023-11-24T16:41:39.936955Z"
    }
   }
  },
  {
   "cell_type": "code",
   "execution_count": null,
   "outputs": [],
   "source": [],
   "metadata": {
    "collapsed": false
   }
  }
 ],
 "metadata": {
  "kernelspec": {
   "display_name": "Python 3",
   "language": "python",
   "name": "python3"
  },
  "language_info": {
   "codemirror_mode": {
    "name": "ipython",
    "version": 2
   },
   "file_extension": ".py",
   "mimetype": "text/x-python",
   "name": "python",
   "nbconvert_exporter": "python",
   "pygments_lexer": "ipython2",
   "version": "2.7.6"
  }
 },
 "nbformat": 4,
 "nbformat_minor": 0
}
